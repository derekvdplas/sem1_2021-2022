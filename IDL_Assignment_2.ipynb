{
  "nbformat": 4,
  "nbformat_minor": 0,
  "metadata": {
    "colab": {
      "name": "IDL - Assignment 2.ipynb",
      "provenance": [],
      "collapsed_sections": []
    },
    "kernelspec": {
      "display_name": "Python 3",
      "name": "python3"
    },
    "language_info": {
      "name": "python"
    }
  },
  "cells": [
    {
      "cell_type": "code",
      "metadata": {
        "id": "3Er65ZXzJZh0"
      },
      "source": [
        "import tensorflow as tf\n",
        "import keras\n",
        "\n",
        "\n",
        "from keras import backend as K\n",
        "from keras.models import Sequential\n",
        "from keras.layers import Dense, Activation, Dropout, Flatten, MaxPooling2D, concatenate\n",
        "from keras.layers.convolutional import Conv2D\n",
        "from keras.layers.recurrent import SimpleRNN, LSTM, GRU \n",
        "from keras.utils import np_utils\n",
        "\n",
        "from keras.datasets import mnist, fashion_mnist, imdb\n",
        "\n",
        "from sklearn.model_selection import train_test_split\n",
        "\n",
        "import numpy as np\n",
        "import matplotlib.pyplot as plt\n",
        "from functools import partial"
      ],
      "execution_count": null,
      "outputs": []
    },
    {
      "cell_type": "code",
      "metadata": {
        "colab": {
          "base_uri": "https://localhost:8080/"
        },
        "id": "M1M-56QEijy1",
        "outputId": "194cef1d-be15-4e70-a259-a056538fd44d"
      },
      "source": [
        "device_name = tf.test.gpu_device_name()\n",
        "if device_name != '/device:GPU:0':\n",
        "  raise SystemError('GPU device not found')\n",
        "print('Found GPU at: {}'.format(device_name))"
      ],
      "execution_count": null,
      "outputs": [
        {
          "output_type": "stream",
          "name": "stdout",
          "text": [
            "Found GPU at: /device:GPU:0\n"
          ]
        }
      ]
    },
    {
      "cell_type": "code",
      "metadata": {
        "id": "NcZUITzvDUnw"
      },
      "source": [
        "# Prepare datasets\n",
        "\n",
        "num_classes = 10\n",
        "\n",
        "# mnist dataset\n",
        "# the data, split between train and test sets\n",
        "(mnist_x_train, mnist_y_train), (mnist_x_test, mnist_y_test) = mnist.load_data()\n",
        "\n",
        "mnist_x_train_flat = mnist_x_train.reshape(60000, 784)\n",
        "mnist_x_test_flat = mnist_x_test.reshape(10000, 784)\n",
        "mnist_x_train_flat = mnist_x_train_flat.astype('float32')\n",
        "mnist_x_test_flat = mnist_x_test_flat.astype('float32')\n",
        "mnist_x_train_flat /= 255\n",
        "mnist_x_test_flat /= 255\n",
        "\n",
        "# convert class vectors to binary class matrices\n",
        "mnist_y_train = np_utils.to_categorical(mnist_y_train, num_classes)\n",
        "mnist_y_test = np_utils.to_categorical(mnist_y_test, num_classes)\n",
        "\n",
        "print(mnist_x_train.shape[0], 'MNIST train samples')\n",
        "print(mnist_x_test.shape[0], 'MNIST test samples')\n",
        "\n",
        "# fmnist dataset\n",
        "# the data, split between train and test sets\n",
        "(fmnist_x_train, fmnist_y_train), (fmnist_x_test, fmnist_y_test) = fashion_mnist.load_data()\n",
        "\n",
        "fmnist_x_train_flat = fmnist_x_train.reshape(60000, 784)\n",
        "fmnist_x_test_flat = fmnist_x_test.reshape(10000, 784)\n",
        "fmnist_x_train_flat = fmnist_x_train_flat.astype('float32')\n",
        "fmnist_x_test_flat = fmnist_x_test_flat.astype('float32')\n",
        "fmnist_x_train_flat /= 255\n",
        "fmnist_x_test_flat /= 255\n",
        "\n",
        "# convert class vectors to binary class matrices\n",
        "fmnist_y_train = np_utils.to_categorical(fmnist_y_train, num_classes)\n",
        "fmnist_y_test = np_utils.to_categorical(fmnist_y_test, num_classes)\n",
        "\n",
        "print(fmnist_x_train.shape[0], 'FMNIST train samples')\n",
        "print(fmnist_x_test.shape[0], 'FMNIST test samples')\n"
      ],
      "execution_count": null,
      "outputs": []
    },
    {
      "cell_type": "code",
      "metadata": {
        "colab": {
          "base_uri": "https://localhost:8080/"
        },
        "id": "1-OQZgXqLpiB",
        "outputId": "224960b2-9bfa-4f67-a631-48a42cd23165"
      },
      "source": [
        "# Testing setup\n",
        "\n",
        "tf.config.get_visible_devices()"
      ],
      "execution_count": null,
      "outputs": [
        {
          "output_type": "execute_result",
          "data": {
            "text/plain": [
              "[PhysicalDevice(name='/physical_device:CPU:0', device_type='CPU'),\n",
              " PhysicalDevice(name='/physical_device:GPU:0', device_type='GPU')]"
            ]
          },
          "metadata": {},
          "execution_count": 4
        }
      ]
    },
    {
      "cell_type": "markdown",
      "metadata": {
        "id": "4_DZP5krvZyv"
      },
      "source": [
        "# Task 1"
      ]
    },
    {
      "cell_type": "code",
      "metadata": {
        "id": "yr-UE5R3J464"
      },
      "source": [
        "# Experiment with mnist_mlp.py and mnist_cnn.py\n",
        "\n",
        "# mnist_mlp.py ##################################\n",
        "\n",
        "batch_size = 128\n",
        "num_classes = 10\n",
        "epochs = 9\n",
        "\n",
        "# Old mnist_mlp.py code\n",
        "\n",
        "\"\"\"\n",
        "model = Sequential()\n",
        "\n",
        "model.add(Dense(512, activation='relu', input_shape=(784,))) # Input\n",
        "model.add(Dropout(0.2))\n",
        "model.add(Dense(512, activation='relu'))\n",
        "model.add(Dropout(0.2))\n",
        "model.add(Dense(num_classes, activation='softmax')) # Output\n",
        "\n",
        "model.summary()\n",
        "\n",
        "model.compile(loss='categorical_crossentropy',\n",
        "              optimizer=tf.keras.optimizers.RMSprop(),\n",
        "              metrics=['accuracy'])\n",
        "\n",
        "history = model.fit(mnist_x_train, \n",
        "                    mnist_y_train,\n",
        "                    batch_size=batch_size,\n",
        "                    epochs=epochs,\n",
        "                    verbose=1,\n",
        "                    validation_split=0.2)\n",
        "\n",
        "score = model.evaluate(mnist_x_test, \n",
        "                       mnist_y_test, \n",
        "                       verbose=0)\n",
        "\n",
        "print('Test loss:', score[0])\n",
        "print('Test accuracy:', score[1])\n",
        "\"\"\"\n",
        "\n",
        "# MLP for MNIST\n",
        "\n",
        "input = tf.keras.Input(shape=(784,))\n",
        "input_layer = Dense(512, activation='relu')(input)\n",
        "layer1 = Dropout(0.2)(input_layer)\n",
        "layer2 = Dense(512, activation='relu')(layer1)\n",
        "layer3 = Dropout(0.2)(layer2)\n",
        "output_layer = Dense(num_classes, activation='softmax')(layer3)\n",
        "\n",
        "model_mlp = tf.keras.Model(inputs=input, \n",
        "                           outputs=output_layer, \n",
        "                           name='model_mlp')\n",
        "\n",
        "model_mlp.compile(loss='categorical_crossentropy', \n",
        "                  optimizer=tf.keras.optimizers.RMSprop(), \n",
        "                  metrics=['accuracy'])\n",
        "\n",
        "history_mlp = model_mlp.fit(mnist_x_train_flat,\n",
        "                            mnist_y_train,\n",
        "                            batch_size=batch_size,\n",
        "                            epochs=epochs,\n",
        "                            verbose=1,\n",
        "                            validation_split=0.2)\n",
        "\n",
        "score_mlp = model_mlp.evaluate(mnist_x_test_flat,\n",
        "                               mnist_y_test,\n",
        "                               verbose=0)\n",
        "\n",
        "print('Test loss:', score_mlp[0])\n",
        "print('Test accuracy:', score_mlp[1])\n",
        "\n",
        "####################################################################"
      ],
      "execution_count": null,
      "outputs": []
    },
    {
      "cell_type": "code",
      "metadata": {
        "colab": {
          "base_uri": "https://localhost:8080/",
          "height": 573
        },
        "id": "11Un2HEmjIDp",
        "outputId": "9c393d7b-b7d7-42ed-bf1f-3dce5bca2774"
      },
      "source": [
        "# Plot accuracy\n",
        "plt.plot(history_mlp.history['accuracy'])\n",
        "plt.plot(history_mlp.history['val_accuracy'])\n",
        "plt.title('model accuracy')\n",
        "plt.ylabel('accuracy')\n",
        "plt.xlabel('epoch')\n",
        "plt.legend(['train', 'test'], loc='upper left')\n",
        "plt.show()\n",
        "\n",
        "# Plot loss\n",
        "plt.plot(history_mlp.history['loss'])\n",
        "plt.plot(history_mlp.history['val_loss'])\n",
        "plt.title('model loss')\n",
        "plt.ylabel('loss')\n",
        "plt.xlabel('epoch')\n",
        "plt.legend(['train', 'test'], loc='upper left')\n",
        "plt.show()"
      ],
      "execution_count": null,
      "outputs": [
        {
          "output_type": "display_data",
          "data": {
            "image/png": "[encoded data removed]",
            "text/plain": [
              "<Figure size 432x288 with 1 Axes>"
            ]
          },
          "metadata": {
            "needs_background": "light"
          }
        },
        {
          "output_type": "display_data",
          "data": {
            "image/png": "[encoded data removed]",
            "text/plain": [
              "<Figure size 432x288 with 1 Axes>"
            ]
          },
          "metadata": {
            "needs_background": "light"
          }
        }
      ]
    },
    {
      "cell_type": "code",
      "metadata": {
        "colab": {
          "base_uri": "https://localhost:8080/"
        },
        "id": "_3Jagr2vjBph",
        "outputId": "0502ab5e-041b-4e0a-efbf-517eaa1b97d1"
      },
      "source": [
        "# MLP for FMNIST\n",
        "\n",
        "input = tf.keras.Input(shape=(784,))\n",
        "input_layer = Dense(512, activation='relu')(input)\n",
        "layer1 = Dropout(0.2)(input_layer)\n",
        "layer2 = Dense(512, activation='relu')(layer1)\n",
        "layer3 = Dropout(0.2)(layer2)\n",
        "output_layer = Dense(num_classes, activation='softmax')(layer3)\n",
        "\n",
        "model_mlp = tf.keras.Model(inputs=input, \n",
        "                           outputs=output_layer, \n",
        "                           name='model_mlp')\n",
        "\n",
        "model_mlp.compile(loss='categorical_crossentropy', \n",
        "                  optimizer=tf.keras.optimizers.RMSprop(), \n",
        "                  metrics=['accuracy'])\n",
        "\n",
        "history_mlp = model_mlp.fit(fmnist_x_train_flat,\n",
        "                            fmnist_y_train,\n",
        "                            batch_size=batch_size,\n",
        "                            epochs=epochs,\n",
        "                            verbose=1,\n",
        "                            validation_split=0.2)\n",
        "\n",
        "score_mlp = model_mlp.evaluate(fmnist_x_test_flat,\n",
        "                               fmnist_y_test,\n",
        "                               verbose=0)\n",
        "\n",
        "print('Test loss:', score_mlp[0])\n",
        "print('Test accuracy:', score_mlp[1])\n"
      ],
      "execution_count": null,
      "outputs": [
        {
          "output_type": "stream",
          "name": "stdout",
          "text": [
            "Epoch 1/9\n",
            "375/375 [==============================] - 3s 6ms/step - loss: 0.5844 - accuracy: 0.7866 - val_loss: 0.4782 - val_accuracy: 0.8223\n",
            "Epoch 2/9\n",
            "375/375 [==============================] - 2s 6ms/step - loss: 0.4176 - accuracy: 0.8457 - val_loss: 0.3763 - val_accuracy: 0.8642\n",
            "Epoch 3/9\n",
            "375/375 [==============================] - 2s 6ms/step - loss: 0.3793 - accuracy: 0.8612 - val_loss: 0.3595 - val_accuracy: 0.8677\n",
            "Epoch 4/9\n",
            "375/375 [==============================] - 2s 6ms/step - loss: 0.3533 - accuracy: 0.8714 - val_loss: 0.3570 - val_accuracy: 0.8779\n",
            "Epoch 5/9\n",
            "375/375 [==============================] - 2s 6ms/step - loss: 0.3354 - accuracy: 0.8780 - val_loss: 0.3759 - val_accuracy: 0.8627\n",
            "Epoch 6/9\n",
            "375/375 [==============================] - 2s 6ms/step - loss: 0.3277 - accuracy: 0.8806 - val_loss: 0.3520 - val_accuracy: 0.8757\n",
            "Epoch 7/9\n",
            "375/375 [==============================] - 2s 6ms/step - loss: 0.3195 - accuracy: 0.8856 - val_loss: 0.3435 - val_accuracy: 0.8809\n",
            "Epoch 8/9\n",
            "375/375 [==============================] - 2s 6ms/step - loss: 0.3120 - accuracy: 0.8890 - val_loss: 0.3489 - val_accuracy: 0.8823\n",
            "Epoch 9/9\n",
            "375/375 [==============================] - 2s 6ms/step - loss: 0.3018 - accuracy: 0.8907 - val_loss: 0.3496 - val_accuracy: 0.8849\n",
            "Test loss: 0.3831918239593506\n",
            "Test accuracy: 0.8812000155448914\n"
          ]
        }
      ]
    },
    {
      "cell_type": "code",
      "metadata": {
        "colab": {
          "base_uri": "https://localhost:8080/"
        },
        "id": "I8XEbx66M0SI",
        "outputId": "f17913bb-aa04-4869-f51c-f9ed74fb6db6"
      },
      "source": [
        "# mnist_cnn.py #####################################################\n",
        "\n",
        "batch_size = 128\n",
        "num_classes = 10\n",
        "epochs = 12\n",
        "\n",
        "\n",
        "# Old mnist_cnn.py code\n",
        "\"\"\"\n",
        "\n",
        "(x_train, y_train), (x_test, y_test) = mnist.load_data()\n",
        "\n",
        "if K.image_data_format() == 'channels_first':\n",
        "    x_train = x_train.reshape(x_train.shape[0], 1, img_rows, img_cols)\n",
        "    x_test = x_test.reshape(x_test.shape[0], 1, img_rows, img_cols)\n",
        "    input_shape = (1, img_rows, img_cols)\n",
        "else:\n",
        "    x_train = x_train.reshape(x_train.shape[0], img_rows, img_cols, 1)\n",
        "    x_test = x_test.reshape(x_test.shape[0], img_rows, img_cols, 1)\n",
        "    input_shape = (img_rows, img_cols, 1)\n",
        "\n",
        "x_train = x_train.astype('float32')\n",
        "x_test = x_test.astype('float32')\n",
        "x_train /= 255\n",
        "x_test /= 255\n",
        "print('x_train shape:', x_train.shape)\n",
        "print(x_train.shape[0], 'train samples')\n",
        "print(x_test.shape[0], 'test samples')\n",
        "\n",
        "# convert class vectors to binary class matrices\n",
        "y_train = np_utils.to_categorical(y_train, num_classes)\n",
        "y_test = np_utils.to_categorical(y_test, num_classes)\n",
        "\n",
        "\n",
        "model = Sequential()\n",
        "model.add(Conv2D(32, kernel_size=(3, 3), activation='relu', input_shape=input_shape))\n",
        "model.add(Conv2D(64, (3, 3), activation='relu'))\n",
        "model.add(MaxPooling2D(pool_size=(2, 2)))\n",
        "model.add(Dropout(0.25))\n",
        "model.add(Flatten())\n",
        "model.add(Dense(128, activation='relu'))\n",
        "model.add(Dropout(0.5))\n",
        "model.add(Dense(num_classes, activation='softmax'))\n",
        "\n",
        "model.compile(loss=keras.losses.categorical_crossentropy,\n",
        "              optimizer=tf.keras.optimizers.Adadelta(),\n",
        "              metrics=['accuracy'])\n",
        "\n",
        "model.fit(mnist_x_train, mnist_y_train,\n",
        "          batch_size=batch_size,\n",
        "          epochs=epochs,\n",
        "          verbose=1,\n",
        "          validation_data=(mnist_x_test, mnist_y_test))\n",
        "\n",
        "score = model.evaluate(mnist_x_test, mnist_y_test, verbose=0)\n",
        "\n",
        "print('Test loss:', score[0])\n",
        "print('Test accuracy:', score[1])\n",
        "\n",
        "\"\"\"\n",
        "# CNN for MNIST\n",
        "\n",
        "input = tf.keras.Input(shape=(28, 28, 1))\n",
        "input_layer = Conv2D(32, kernel_size=3, activation='relu')(input)\n",
        "layer1 = Conv2D(64, kernel_size=3, activation='relu')(input_layer)\n",
        "layer2 = MaxPooling2D(pool_size=2)(layer1)\n",
        "layer3 = Dropout(0.25)(layer2)\n",
        "layer4 = Flatten()(layer3)\n",
        "layer5 = Dense(128, activation='relu')(layer4)\n",
        "layer6 = Dropout(0.5)(layer5)\n",
        "output_layer = Dense(num_classes, activation='softmax')(layer6)\n",
        "\n",
        "model_cnn = tf.keras.Model(inputs=input, \n",
        "                           outputs=output_layer,\n",
        "                           name='model_cnn')\n",
        "\n",
        "model_cnn.compile(loss=keras.losses.categorical_crossentropy,\n",
        "                  optimizer=tf.keras.optimizers.Adadelta(),\n",
        "                  metrics=['accuracy'])\n",
        "\n",
        "history_cnn = model_cnn.fit(mnist_x_train, \n",
        "                            mnist_y_train,\n",
        "                            batch_size=batch_size,\n",
        "                            epochs=epochs,\n",
        "                            verbose=1,\n",
        "                            validation_split=0.2)\n",
        "\n",
        "score_cnn = model_cnn.evaluate(mnist_x_test, \n",
        "                               mnist_y_test, \n",
        "                               verbose=0)\n",
        "\n",
        "\n",
        "print('Test loss:', score_cnn[0])\n",
        "print('Test accuracy:', score_cnn[1])"
      ],
      "execution_count": null,
      "outputs": [
        {
          "output_type": "stream",
          "name": "stdout",
          "text": [
            "Epoch 1/12\n",
            "375/375 [==============================] - 34s 17ms/step - loss: 25.0424 - accuracy: 0.1297 - val_loss: 4.5756 - val_accuracy: 0.3827\n",
            "Epoch 2/12\n",
            "375/375 [==============================] - 6s 17ms/step - loss: 12.4704 - accuracy: 0.2202 - val_loss: 2.1972 - val_accuracy: 0.5370\n",
            "Epoch 3/12\n",
            "375/375 [==============================] - 6s 17ms/step - loss: 7.2534 - accuracy: 0.2882 - val_loss: 1.4655 - val_accuracy: 0.5741\n",
            "Epoch 4/12\n",
            "375/375 [==============================] - 6s 17ms/step - loss: 4.6891 - accuracy: 0.3176 - val_loss: 1.3602 - val_accuracy: 0.5523\n",
            "Epoch 5/12\n",
            "375/375 [==============================] - 6s 17ms/step - loss: 3.3235 - accuracy: 0.3269 - val_loss: 1.4954 - val_accuracy: 0.5100\n",
            "Epoch 6/12\n",
            "375/375 [==============================] - 6s 17ms/step - loss: 2.6493 - accuracy: 0.3335 - val_loss: 1.6249 - val_accuracy: 0.4746\n",
            "Epoch 7/12\n",
            "375/375 [==============================] - 6s 17ms/step - loss: 2.3118 - accuracy: 0.3313 - val_loss: 1.6878 - val_accuracy: 0.4657\n",
            "Epoch 8/12\n",
            "375/375 [==============================] - 6s 17ms/step - loss: 2.1451 - accuracy: 0.3387 - val_loss: 1.6831 - val_accuracy: 0.4789\n",
            "Epoch 9/12\n",
            "375/375 [==============================] - 6s 17ms/step - loss: 2.0336 - accuracy: 0.3539 - val_loss: 1.6506 - val_accuracy: 0.4992\n",
            "Epoch 10/12\n",
            "375/375 [==============================] - 6s 17ms/step - loss: 1.9641 - accuracy: 0.3816 - val_loss: 1.6034 - val_accuracy: 0.5811\n",
            "Epoch 11/12\n",
            "375/375 [==============================] - 6s 17ms/step - loss: 1.8917 - accuracy: 0.4137 - val_loss: 1.5351 - val_accuracy: 0.6097\n",
            "Epoch 12/12\n",
            "375/375 [==============================] - 6s 17ms/step - loss: 1.8288 - accuracy: 0.4302 - val_loss: 1.4647 - val_accuracy: 0.6357\n",
            "Test loss: 1.4855663776397705\n",
            "Test accuracy: 0.6265000104904175\n"
          ]
        }
      ]
    },
    {
      "cell_type": "code",
      "metadata": {
        "colab": {
          "base_uri": "https://localhost:8080/"
        },
        "id": "xQQwxHUGK2Ib",
        "outputId": "ef7facd4-01ce-40f1-c410-15598e472913"
      },
      "source": [
        "# CNN for FMNIST\n",
        "\n",
        "input = tf.keras.Input(shape=(28, 28, 1))\n",
        "input_layer = Conv2D(32, kernel_size=3, activation='relu')(input)\n",
        "layer1 = Conv2D(64, kernel_size=3, activation='relu')(input_layer)\n",
        "layer2 = MaxPooling2D(pool_size=2)(layer1)\n",
        "layer3 = Dropout(0.25)(layer2)\n",
        "layer4 = Flatten()(layer3)\n",
        "layer5 = Dense(128, activation='relu')(layer4)\n",
        "layer6 = Dropout(0.5)(layer5)\n",
        "output_layer = Dense(num_classes, activation='softmax')(layer6)\n",
        "\n",
        "model_cnn = tf.keras.Model(inputs=input, \n",
        "                           outputs=output_layer,\n",
        "                           name='model_cnn')\n",
        "\n",
        "model_cnn.compile(loss=keras.losses.categorical_crossentropy,\n",
        "                  optimizer=tf.keras.optimizers.Adadelta(),\n",
        "                  metrics=['accuracy'])\n",
        "\n",
        "history_cnn = model_cnn.fit(fmnist_x_train, \n",
        "                            fmnist_y_train,\n",
        "                            batch_size=batch_size,\n",
        "                            epochs=epochs,\n",
        "                            verbose=1,\n",
        "                            validation_split=0.2)\n",
        "\n",
        "score_cnn = model_cnn.evaluate(fmnist_x_test, \n",
        "                               fmnist_y_test, \n",
        "                               verbose=0)\n",
        "\n",
        "print('Test loss:', score_cnn[0])\n",
        "print('Test accuracy:', score_cnn[1])"
      ],
      "execution_count": null,
      "outputs": [
        {
          "output_type": "stream",
          "name": "stdout",
          "text": [
            "Epoch 1/12\n",
            "375/375 [==============================] - 7s 17ms/step - loss: 24.5099 - accuracy: 0.1754 - val_loss: 3.7858 - val_accuracy: 0.5220\n",
            "Epoch 2/12\n",
            "375/375 [==============================] - 6s 17ms/step - loss: 10.7289 - accuracy: 0.2844 - val_loss: 1.7452 - val_accuracy: 0.5776\n",
            "Epoch 3/12\n",
            "375/375 [==============================] - 6s 17ms/step - loss: 5.6367 - accuracy: 0.3315 - val_loss: 1.3544 - val_accuracy: 0.5581\n",
            "Epoch 4/12\n",
            "375/375 [==============================] - 6s 17ms/step - loss: 3.4367 - accuracy: 0.3459 - val_loss: 1.4805 - val_accuracy: 0.5307\n",
            "Epoch 5/12\n",
            "375/375 [==============================] - 6s 17ms/step - loss: 2.5731 - accuracy: 0.3516 - val_loss: 1.5722 - val_accuracy: 0.5183\n",
            "Epoch 6/12\n",
            "375/375 [==============================] - 6s 17ms/step - loss: 2.2299 - accuracy: 0.3656 - val_loss: 1.5733 - val_accuracy: 0.5285\n",
            "Epoch 7/12\n",
            "375/375 [==============================] - 6s 17ms/step - loss: 2.0511 - accuracy: 0.3776 - val_loss: 1.5378 - val_accuracy: 0.5506\n",
            "Epoch 8/12\n",
            "375/375 [==============================] - 6s 17ms/step - loss: 1.9547 - accuracy: 0.3935 - val_loss: 1.4910 - val_accuracy: 0.5675\n",
            "Epoch 9/12\n",
            "375/375 [==============================] - 6s 17ms/step - loss: 1.8619 - accuracy: 0.4092 - val_loss: 1.4158 - val_accuracy: 0.5958\n",
            "Epoch 10/12\n",
            "375/375 [==============================] - 6s 17ms/step - loss: 1.8045 - accuracy: 0.4260 - val_loss: 1.3518 - val_accuracy: 0.6143\n",
            "Epoch 11/12\n",
            "375/375 [==============================] - 6s 17ms/step - loss: 1.7454 - accuracy: 0.4400 - val_loss: 1.2952 - val_accuracy: 0.6287\n",
            "Epoch 12/12\n",
            "375/375 [==============================] - 6s 17ms/step - loss: 1.6874 - accuracy: 0.4560 - val_loss: 1.2419 - val_accuracy: 0.6406\n",
            "Test loss: 1.2485300302505493\n",
            "Test accuracy: 0.6347000002861023\n"
          ]
        }
      ]
    },
    {
      "cell_type": "code",
      "metadata": {
        "colab": {
          "base_uri": "https://localhost:8080/"
        },
        "id": "yjg5QlV9O5B9",
        "outputId": "7335ea81-e5ab-4c9b-c4f8-5f16f9dc9d2c"
      },
      "source": [
        "# Final improved (V5) version of CNN for MNIST\n",
        "\n",
        "input = tf.keras.Input(shape=(28, 28, 1), name='Input')\n",
        "\n",
        "input_layer = Conv2D(64, 7, activation='relu', name='relu_1', padding='same')(input)\n",
        "\n",
        "layer1 = MaxPooling2D(2, name='2_1')(input_layer)\n",
        "layer2 = Conv2D(128, 3, activation='relu', name='relu_2', padding='same')(layer1)\n",
        "layer3 = Conv2D(128, 3, activation='relu', name='relu_3', padding='same')(layer2)\n",
        "layer4 = MaxPooling2D(2, name='2_2')(layer3)\n",
        "layer5 = Conv2D(256, 3, activation='relu', name='relu_4', padding='same')(layer4)\n",
        "layer6 = Conv2D(256, 3, activation='relu', name='relu_5', padding='same')(layer5)\n",
        "layer7 = MaxPooling2D(2, name='2_3')(layer6)\n",
        "layer8 = Flatten(name='flatten_1')(layer7)\n",
        "layer9 = Dense(128, activation='relu',name='relu_6')(layer8)\n",
        "layer10 = Dropout(0.5, name='0.5_1')(layer9)\n",
        "layer11 = Dense(64, activation='relu', name='relu_7')(layer10)\n",
        "layer12 = Dropout(0.5, name='0.5_2')(layer11)\n",
        "\n",
        "output_layer = Dense(num_classes, activation='softmax', name='Output_softmax')(layer12)\n",
        "\n",
        "model_cnn_v5 = tf.keras.Model(inputs=input, \n",
        "                           outputs=output_layer,\n",
        "                           name='model_cnn')\n",
        "\n",
        "model_cnn_v5.compile(loss=keras.losses.categorical_crossentropy,\n",
        "                  optimizer=tf.keras.optimizers.SGD(),\n",
        "                  metrics=['accuracy'])\n",
        "\n",
        "history_cnn_v5 = model_cnn_v5.fit(mnist_x_train, \n",
        "                            mnist_y_train,\n",
        "                            batch_size=batch_size,\n",
        "                            epochs=epochs,\n",
        "                            verbose=1,\n",
        "                            validation_split=0.2)\n",
        "\n",
        "score_cnn_v5 = model_cnn_v5.evaluate(mnist_x_test, \n",
        "                               mnist_y_test, \n",
        "                               verbose=0)\n",
        "\n",
        "print('Test loss:', score_cnn_v5[0])\n",
        "print('Test accuracy:', score_cnn_v5[1])"
      ],
      "execution_count": null,
      "outputs": [
        {
          "output_type": "stream",
          "name": "stdout",
          "text": [
            "Epoch 1/12\n",
            "375/375 [==============================] - 15s 39ms/step - loss: 1.4012 - accuracy: 0.5521 - val_loss: 0.1578 - val_accuracy: 0.9620\n",
            "Epoch 2/12\n",
            "375/375 [==============================] - 14s 38ms/step - loss: 0.4020 - accuracy: 0.8754 - val_loss: 0.0762 - val_accuracy: 0.9793\n",
            "Epoch 3/12\n",
            "375/375 [==============================] - 14s 38ms/step - loss: 0.2516 - accuracy: 0.9242 - val_loss: 0.0591 - val_accuracy: 0.9842\n",
            "Epoch 4/12\n",
            "375/375 [==============================] - 14s 38ms/step - loss: 0.1924 - accuracy: 0.9434 - val_loss: 0.0583 - val_accuracy: 0.9869\n",
            "Epoch 5/12\n",
            "375/375 [==============================] - 14s 38ms/step - loss: 0.1559 - accuracy: 0.9558 - val_loss: 0.0491 - val_accuracy: 0.9877\n",
            "Epoch 6/12\n",
            "375/375 [==============================] - 14s 38ms/step - loss: 0.1306 - accuracy: 0.9630 - val_loss: 0.0443 - val_accuracy: 0.9896\n",
            "Epoch 7/12\n",
            "375/375 [==============================] - 14s 38ms/step - loss: 0.1177 - accuracy: 0.9667 - val_loss: 0.0491 - val_accuracy: 0.9891\n",
            "Epoch 8/12\n",
            "375/375 [==============================] - 14s 38ms/step - loss: 0.1041 - accuracy: 0.9702 - val_loss: 0.0461 - val_accuracy: 0.9903\n",
            "Epoch 9/12\n",
            "375/375 [==============================] - 14s 38ms/step - loss: 0.0927 - accuracy: 0.9737 - val_loss: 0.0405 - val_accuracy: 0.9915\n",
            "Epoch 10/12\n",
            "375/375 [==============================] - 14s 38ms/step - loss: 0.0857 - accuracy: 0.9756 - val_loss: 0.0462 - val_accuracy: 0.9902\n",
            "Epoch 11/12\n",
            "375/375 [==============================] - 14s 38ms/step - loss: 0.0761 - accuracy: 0.9787 - val_loss: 0.0429 - val_accuracy: 0.9908\n",
            "Epoch 12/12\n",
            "375/375 [==============================] - 14s 38ms/step - loss: 0.0693 - accuracy: 0.9806 - val_loss: 0.0438 - val_accuracy: 0.9908\n",
            "Test loss: 0.03870515525341034\n",
            "Test accuracy: 0.9909999966621399\n"
          ]
        }
      ]
    },
    {
      "cell_type": "code",
      "metadata": {
        "colab": {
          "base_uri": "https://localhost:8080/"
        },
        "id": "WvMsBNc7Lh1o",
        "outputId": "41244623-b3ac-41e1-9021-ddee0bd106da"
      },
      "source": [
        "# Final improved version (V5) of CNN for FMNIST\n",
        "\n",
        "input = tf.keras.Input(shape=(28, 28, 1), name='Input')\n",
        "\n",
        "input_layer = Conv2D(64, 7, activation='relu', name='relu_1', padding='same')(input)\n",
        "\n",
        "layer1 = MaxPooling2D(2, name='2_1')(input_layer)\n",
        "layer2 = Conv2D(128, 3, activation='relu', name='relu_2', padding='same')(layer1)\n",
        "layer3 = Conv2D(128, 3, activation='relu', name='relu_3', padding='same')(layer2)\n",
        "layer4 = MaxPooling2D(2, name='2_2')(layer3)\n",
        "layer5 = Conv2D(256, 3, activation='relu', name='relu_4', padding='same')(layer4)\n",
        "layer6 = Conv2D(256, 3, activation='relu', name='relu_5', padding='same')(layer5)\n",
        "layer7 = MaxPooling2D(2, name='2_3')(layer6)\n",
        "layer8 = Flatten(name='flatten_1')(layer7)\n",
        "layer9 = Dense(128, activation='relu',name='relu_6')(layer8)\n",
        "layer10 = Dropout(0.5, name='0.5_1')(layer9)\n",
        "layer11 = Dense(64, activation='relu', name='relu_7')(layer10)\n",
        "layer12 = Dropout(0.5, name='0.5_2')(layer11)\n",
        "\n",
        "output_layer = Dense(num_classes, activation='softmax', name='Output_softmax')(layer12)\n",
        "\n",
        "model_cnn_v5 = tf.keras.Model(inputs=input, \n",
        "                           outputs=output_layer,\n",
        "                           name='model_cnn')\n",
        "\n",
        "model_cnn_v5.compile(loss=keras.losses.categorical_crossentropy,\n",
        "                  optimizer=tf.keras.optimizers.SGD(),\n",
        "                  metrics=['accuracy'])\n",
        "\n",
        "history_cnn_v5 = model_cnn_v5.fit(fmnist_x_train, \n",
        "                            fmnist_y_train,\n",
        "                            batch_size=batch_size,\n",
        "                            epochs=epochs,\n",
        "                            verbose=1,\n",
        "                            validation_split=0.2)\n",
        "\n",
        "score_cnn_v5 = model_cnn_v5.evaluate(fmnist_x_test, \n",
        "                               fmnist_y_test, \n",
        "                               verbose=0)\n",
        "\n",
        "print('Test loss:', score_cnn_v5[0])\n",
        "print('Test accuracy:', score_cnn_v5[1])"
      ],
      "execution_count": null,
      "outputs": [
        {
          "output_type": "stream",
          "name": "stdout",
          "text": [
            "Epoch 1/12\n",
            "375/375 [==============================] - 15s 39ms/step - loss: 1.5359 - accuracy: 0.4904 - val_loss: 0.6152 - val_accuracy: 0.8028\n",
            "Epoch 2/12\n",
            "375/375 [==============================] - 14s 38ms/step - loss: 0.8218 - accuracy: 0.7117 - val_loss: 0.4836 - val_accuracy: 0.8376\n",
            "Epoch 3/12\n",
            "375/375 [==============================] - 14s 38ms/step - loss: 0.6759 - accuracy: 0.7656 - val_loss: 0.4204 - val_accuracy: 0.8572\n",
            "Epoch 4/12\n",
            "375/375 [==============================] - 14s 38ms/step - loss: 0.5922 - accuracy: 0.7987 - val_loss: 0.3953 - val_accuracy: 0.8620\n",
            "Epoch 5/12\n",
            "375/375 [==============================] - 14s 38ms/step - loss: 0.5391 - accuracy: 0.8178 - val_loss: 0.3807 - val_accuracy: 0.8719\n",
            "Epoch 6/12\n",
            "375/375 [==============================] - 14s 38ms/step - loss: 0.5045 - accuracy: 0.8294 - val_loss: 0.3547 - val_accuracy: 0.8773\n",
            "Epoch 7/12\n",
            "375/375 [==============================] - 14s 38ms/step - loss: 0.4826 - accuracy: 0.8366 - val_loss: 0.3480 - val_accuracy: 0.8764\n",
            "Epoch 8/12\n",
            "375/375 [==============================] - 14s 38ms/step - loss: 0.4512 - accuracy: 0.8478 - val_loss: 0.3316 - val_accuracy: 0.8854\n",
            "Epoch 9/12\n",
            "375/375 [==============================] - 14s 38ms/step - loss: 0.4313 - accuracy: 0.8531 - val_loss: 0.3413 - val_accuracy: 0.8849\n",
            "Epoch 10/12\n",
            "375/375 [==============================] - 14s 38ms/step - loss: 0.4111 - accuracy: 0.8606 - val_loss: 0.3132 - val_accuracy: 0.8905\n",
            "Epoch 11/12\n",
            "375/375 [==============================] - 14s 38ms/step - loss: 0.3951 - accuracy: 0.8678 - val_loss: 0.3024 - val_accuracy: 0.8917\n",
            "Epoch 12/12\n",
            "375/375 [==============================] - 14s 38ms/step - loss: 0.3792 - accuracy: 0.8727 - val_loss: 0.2899 - val_accuracy: 0.8932\n",
            "Test loss: 0.3064851462841034\n",
            "Test accuracy: 0.8877999782562256\n"
          ]
        }
      ]
    },
    {
      "cell_type": "markdown",
      "metadata": {
        "id": "kOmydFQk7Hoo"
      },
      "source": [
        "# Task 2"
      ]
    },
    {
      "cell_type": "code",
      "metadata": {
        "id": "iKi2d1_I7LG0"
      },
      "source": [
        "permutation = np.random.permutation(784) # This is to ensure we have a single random perumation of the pixels\n",
        "\n",
        "# Apply the same permutation to each dataset\n",
        "mnist_train_permutated_flat = mnist_x_train_flat.T[permutation].T\n",
        "mnist_train_permutated = mnist_train_permutated_flat.reshape((60000, 28, 28))\n",
        "\n",
        "mnist_test_permutated_flat = mnist_x_test_flat.T[permutation].T\n",
        "mnist_test_permutated = mnist_test_permutated_flat.reshape((10000, 28, 28))\n",
        "\n",
        "fmnist_train_permutated_flat = fmnist_x_train_flat.T[permutation].T\n",
        "fmnist_train_permutated = fmnist_train_permutated_flat.reshape((60000, 28, 28))\n",
        "\n",
        "fmnist_test_permutated_flat = fmnist_x_test_flat.T[permutation].T\n",
        "fmnist_test_permutated = fmnist_test_permutated_flat.reshape((10000, 28, 28))"
      ],
      "execution_count": null,
      "outputs": []
    },
    {
      "cell_type": "code",
      "metadata": {
        "colab": {
          "base_uri": "https://localhost:8080/"
        },
        "id": "26aYzDnuK2iX",
        "outputId": "51973e60-2ebe-40ae-dfb3-f79f56a8e233"
      },
      "source": [
        "# MLP for permutated MNIST\n",
        "\n",
        "batch_size = 128\n",
        "num_classes = 10\n",
        "epochs = 9\n",
        "\n",
        "input = tf.keras.Input(shape=(784,))\n",
        "input_layer = Dense(512, activation='relu')(input)\n",
        "layer1 = Dropout(0.2)(input_layer)\n",
        "layer2 = Dense(512, activation='relu')(layer1)\n",
        "layer3 = Dropout(0.2)(layer2)\n",
        "output_layer = Dense(num_classes, activation='softmax')(layer3)\n",
        "\n",
        "model_mlp = tf.keras.Model(inputs=input, \n",
        "                           outputs=output_layer, \n",
        "                           name='model_mlp')\n",
        "\n",
        "model_mlp.compile(loss='categorical_crossentropy', \n",
        "                  optimizer=tf.keras.optimizers.RMSprop(), \n",
        "                  metrics=['accuracy'])\n",
        "\n",
        "history_mlp = model_mlp.fit(mnist_train_permutated_flat,\n",
        "                            mnist_y_train,\n",
        "                            batch_size=batch_size,\n",
        "                            epochs=epochs,\n",
        "                            verbose=1,\n",
        "                            validation_split=0.2)\n",
        "\n",
        "score_mlp = model_mlp.evaluate(mnist_test_permutated_flat,\n",
        "                               mnist_y_test,\n",
        "                               verbose=0)\n",
        "\n",
        "print('Test loss:', score_mlp[0])\n",
        "print('Test accuracy:', score_mlp[1])"
      ],
      "execution_count": null,
      "outputs": [
        {
          "output_type": "stream",
          "name": "stdout",
          "text": [
            "Epoch 1/9\n",
            "375/375 [==============================] - 3s 7ms/step - loss: 0.2760 - accuracy: 0.9147 - val_loss: 0.1221 - val_accuracy: 0.9621\n",
            "Epoch 2/9\n",
            "375/375 [==============================] - 2s 6ms/step - loss: 0.1121 - accuracy: 0.9659 - val_loss: 0.1126 - val_accuracy: 0.9677\n",
            "Epoch 3/9\n",
            "375/375 [==============================] - 2s 6ms/step - loss: 0.0799 - accuracy: 0.9756 - val_loss: 0.0924 - val_accuracy: 0.9739\n",
            "Epoch 4/9\n",
            "375/375 [==============================] - 2s 6ms/step - loss: 0.0625 - accuracy: 0.9805 - val_loss: 0.0916 - val_accuracy: 0.9777\n",
            "Epoch 5/9\n",
            "375/375 [==============================] - 2s 6ms/step - loss: 0.0513 - accuracy: 0.9841 - val_loss: 0.0868 - val_accuracy: 0.9772\n",
            "Epoch 6/9\n",
            "375/375 [==============================] - 2s 6ms/step - loss: 0.0425 - accuracy: 0.9864 - val_loss: 0.0980 - val_accuracy: 0.9776\n",
            "Epoch 7/9\n",
            "375/375 [==============================] - 2s 6ms/step - loss: 0.0373 - accuracy: 0.9887 - val_loss: 0.0972 - val_accuracy: 0.9782\n",
            "Epoch 8/9\n",
            "375/375 [==============================] - 2s 6ms/step - loss: 0.0344 - accuracy: 0.9895 - val_loss: 0.1072 - val_accuracy: 0.9779\n",
            "Epoch 9/9\n",
            "375/375 [==============================] - 2s 6ms/step - loss: 0.0282 - accuracy: 0.9911 - val_loss: 0.1109 - val_accuracy: 0.9786\n",
            "Test loss: 0.09687057137489319\n",
            "Test accuracy: 0.9800000190734863\n"
          ]
        }
      ]
    },
    {
      "cell_type": "code",
      "metadata": {
        "colab": {
          "base_uri": "https://localhost:8080/"
        },
        "id": "m5tvKg8bjM9P",
        "outputId": "e3c2b590-8d55-4101-e7ae-354659889be6"
      },
      "source": [
        "# MLP for permutated FMNIST\n",
        "\n",
        "input = tf.keras.Input(shape=(784,))\n",
        "input_layer = Dense(512, activation='relu')(input)\n",
        "layer1 = Dropout(0.2)(input_layer)\n",
        "layer2 = Dense(512, activation='relu')(layer1)\n",
        "layer3 = Dropout(0.2)(layer2)\n",
        "output_layer = Dense(num_classes, activation='softmax')(layer3)\n",
        "\n",
        "model_mlp = tf.keras.Model(inputs=input, \n",
        "                           outputs=output_layer, \n",
        "                           name='model_mlp')\n",
        "\n",
        "model_mlp.compile(loss='categorical_crossentropy', \n",
        "                  optimizer=tf.keras.optimizers.RMSprop(), \n",
        "                  metrics=['accuracy'])\n",
        "\n",
        "history_mlp = model_mlp.fit(fmnist_train_permutated_flat,\n",
        "                            fmnist_y_train,\n",
        "                            batch_size=batch_size,\n",
        "                            epochs=epochs,\n",
        "                            verbose=1,\n",
        "                            validation_split=0.2)\n",
        "\n",
        "score_mlp = model_mlp.evaluate(fmnist_test_permutated_flat,\n",
        "                               fmnist_y_test,\n",
        "                               verbose=0)\n",
        "\n",
        "print('Test loss:', score_mlp[0])\n",
        "print('Test accuracy:', score_mlp[1])"
      ],
      "execution_count": null,
      "outputs": [
        {
          "output_type": "stream",
          "name": "stdout",
          "text": [
            "Epoch 1/9\n",
            "375/375 [==============================] - 3s 7ms/step - loss: 0.5862 - accuracy: 0.7873 - val_loss: 0.5037 - val_accuracy: 0.8156\n",
            "Epoch 2/9\n",
            "375/375 [==============================] - 2s 6ms/step - loss: 0.4170 - accuracy: 0.8473 - val_loss: 0.3883 - val_accuracy: 0.8565\n",
            "Epoch 3/9\n",
            "375/375 [==============================] - 2s 6ms/step - loss: 0.3740 - accuracy: 0.8623 - val_loss: 0.3482 - val_accuracy: 0.8752\n",
            "Epoch 4/9\n",
            "375/375 [==============================] - 2s 6ms/step - loss: 0.3550 - accuracy: 0.8710 - val_loss: 0.3626 - val_accuracy: 0.8680\n",
            "Epoch 5/9\n",
            "375/375 [==============================] - 2s 6ms/step - loss: 0.3385 - accuracy: 0.8760 - val_loss: 0.3383 - val_accuracy: 0.8834\n",
            "Epoch 6/9\n",
            "375/375 [==============================] - 2s 6ms/step - loss: 0.3263 - accuracy: 0.8831 - val_loss: 0.3692 - val_accuracy: 0.8718\n",
            "Epoch 7/9\n",
            "375/375 [==============================] - 2s 6ms/step - loss: 0.3148 - accuracy: 0.8857 - val_loss: 0.3483 - val_accuracy: 0.8827\n",
            "Epoch 8/9\n",
            "375/375 [==============================] - 2s 6ms/step - loss: 0.3097 - accuracy: 0.8884 - val_loss: 0.3493 - val_accuracy: 0.8784\n",
            "Epoch 9/9\n",
            "375/375 [==============================] - 2s 6ms/step - loss: 0.3021 - accuracy: 0.8916 - val_loss: 0.3563 - val_accuracy: 0.8830\n",
            "Test loss: 0.40491577982902527\n",
            "Test accuracy: 0.8712999820709229\n"
          ]
        }
      ]
    },
    {
      "cell_type": "code",
      "metadata": {
        "colab": {
          "base_uri": "https://localhost:8080/"
        },
        "id": "ZzZEknCtjNOb",
        "outputId": "0e29e099-3d4e-4dde-b0bc-7afee1a397fe"
      },
      "source": [
        "# CNN for permutated MNIST\n",
        "\n",
        "batch_size = 128\n",
        "num_classes = 10\n",
        "epochs = 12\n",
        "\n",
        "input = tf.keras.Input(shape=(28, 28, 1), name='Input')\n",
        "\n",
        "input_layer = Conv2D(64, 7, activation='relu', name='relu_1', padding='same')(input)\n",
        "\n",
        "layer1 = MaxPooling2D(2, name='2_1')(input_layer)\n",
        "layer2 = Conv2D(128, 3, activation='relu', name='relu_2', padding='same')(layer1)\n",
        "layer3 = Conv2D(128, 3, activation='relu', name='relu_3', padding='same')(layer2)\n",
        "layer4 = MaxPooling2D(2, name='2_2')(layer3)\n",
        "layer5 = Conv2D(256, 3, activation='relu', name='relu_4', padding='same')(layer4)\n",
        "layer6 = Conv2D(256, 3, activation='relu', name='relu_5', padding='same')(layer5)\n",
        "layer7 = MaxPooling2D(2, name='2_3')(layer6)\n",
        "layer8 = Flatten(name='flatten_1')(layer7)\n",
        "layer9 = Dense(128, activation='relu',name='relu_6')(layer8)\n",
        "layer10 = Dropout(0.5, name='0.5_1')(layer9)\n",
        "layer11 = Dense(64, activation='relu', name='relu_7')(layer10)\n",
        "layer12 = Dropout(0.5, name='0.5_2')(layer11)\n",
        "\n",
        "output_layer = Dense(num_classes, activation='softmax', name='Output_softmax')(layer12)\n",
        "\n",
        "model_cnn_v5 = tf.keras.Model(inputs=input, \n",
        "                           outputs=output_layer,\n",
        "                           name='model_cnn')\n",
        "\n",
        "model_cnn_v5.compile(loss=keras.losses.categorical_crossentropy,\n",
        "                  optimizer=tf.keras.optimizers.SGD(),\n",
        "                  metrics=['accuracy'])\n",
        "\n",
        "history_cnn_v5 = model_cnn_v5.fit(mnist_train_permutated, \n",
        "                            mnist_y_train,\n",
        "                            batch_size=batch_size,\n",
        "                            epochs=epochs,\n",
        "                            verbose=1,\n",
        "                            validation_split=0.2)\n",
        "\n",
        "score_cnn_v5 = model_cnn_v5.evaluate(mnist_test_permutated, \n",
        "                               mnist_y_test, \n",
        "                               verbose=0)\n",
        "\n",
        "print('Test loss:', score_cnn_v5[0])\n",
        "print('Test accuracy:', score_cnn_v5[1])"
      ],
      "execution_count": null,
      "outputs": [
        {
          "output_type": "stream",
          "name": "stdout",
          "text": [
            "Epoch 1/12\n",
            "375/375 [==============================] - 15s 39ms/step - loss: 2.2959 - accuracy: 0.1434 - val_loss: 2.2842 - val_accuracy: 0.1547\n",
            "Epoch 2/12\n",
            "375/375 [==============================] - 14s 38ms/step - loss: 2.2643 - accuracy: 0.2015 - val_loss: 2.2134 - val_accuracy: 0.3590\n",
            "Epoch 3/12\n",
            "375/375 [==============================] - 14s 38ms/step - loss: 2.1456 - accuracy: 0.2486 - val_loss: 1.9104 - val_accuracy: 0.4428\n",
            "Epoch 4/12\n",
            "375/375 [==============================] - 14s 38ms/step - loss: 1.8350 - accuracy: 0.3497 - val_loss: 1.3901 - val_accuracy: 0.5826\n",
            "Epoch 5/12\n",
            "375/375 [==============================] - 14s 38ms/step - loss: 1.4560 - accuracy: 0.4938 - val_loss: 0.9479 - val_accuracy: 0.7266\n",
            "Epoch 6/12\n",
            "375/375 [==============================] - 14s 38ms/step - loss: 1.1671 - accuracy: 0.6035 - val_loss: 0.7481 - val_accuracy: 0.7793\n",
            "Epoch 7/12\n",
            "375/375 [==============================] - 14s 38ms/step - loss: 0.9630 - accuracy: 0.6850 - val_loss: 0.5781 - val_accuracy: 0.8353\n",
            "Epoch 8/12\n",
            "375/375 [==============================] - 14s 38ms/step - loss: 0.8226 - accuracy: 0.7396 - val_loss: 0.4819 - val_accuracy: 0.8590\n",
            "Epoch 9/12\n",
            "375/375 [==============================] - 14s 38ms/step - loss: 0.7238 - accuracy: 0.7781 - val_loss: 0.4203 - val_accuracy: 0.8721\n",
            "Epoch 10/12\n",
            "375/375 [==============================] - 14s 38ms/step - loss: 0.6394 - accuracy: 0.8068 - val_loss: 0.3720 - val_accuracy: 0.8889\n",
            "Epoch 11/12\n",
            "375/375 [==============================] - 14s 38ms/step - loss: 0.5775 - accuracy: 0.8247 - val_loss: 0.3279 - val_accuracy: 0.9025\n",
            "Epoch 12/12\n",
            "375/375 [==============================] - 14s 38ms/step - loss: 0.5278 - accuracy: 0.8441 - val_loss: 0.3042 - val_accuracy: 0.9094\n",
            "Test loss: 0.29914817214012146\n",
            "Test accuracy: 0.9118000268936157\n"
          ]
        }
      ]
    },
    {
      "cell_type": "code",
      "metadata": {
        "colab": {
          "base_uri": "https://localhost:8080/"
        },
        "id": "TItfHHKEjNih",
        "outputId": "2185de73-bb10-4c75-8185-5cfa2e8b64a2"
      },
      "source": [
        "# CNN for permutated FMNIST\n",
        "\n",
        "input = tf.keras.Input(shape=(28, 28, 1), name='Input')\n",
        "\n",
        "input_layer = Conv2D(64, 7, activation='relu', name='relu_1', padding='same')(input)\n",
        "\n",
        "layer1 = MaxPooling2D(2, name='2_1')(input_layer)\n",
        "layer2 = Conv2D(128, 3, activation='relu', name='relu_2', padding='same')(layer1)\n",
        "layer3 = Conv2D(128, 3, activation='relu', name='relu_3', padding='same')(layer2)\n",
        "layer4 = MaxPooling2D(2, name='2_2')(layer3)\n",
        "layer5 = Conv2D(256, 3, activation='relu', name='relu_4', padding='same')(layer4)\n",
        "layer6 = Conv2D(256, 3, activation='relu', name='relu_5', padding='same')(layer5)\n",
        "layer7 = MaxPooling2D(2, name='2_3')(layer6)\n",
        "layer8 = Flatten(name='flatten_1')(layer7)\n",
        "layer9 = Dense(128, activation='relu',name='relu_6')(layer8)\n",
        "layer10 = Dropout(0.5, name='0.5_1')(layer9)\n",
        "layer11 = Dense(64, activation='relu', name='relu_7')(layer10)\n",
        "layer12 = Dropout(0.5, name='0.5_2')(layer11)\n",
        "\n",
        "output_layer = Dense(num_classes, activation='softmax', name='Output_softmax')(layer12)\n",
        "\n",
        "model_cnn_v5 = tf.keras.Model(inputs=input, \n",
        "                           outputs=output_layer,\n",
        "                           name='model_cnn')\n",
        "\n",
        "model_cnn_v5.compile(loss=keras.losses.categorical_crossentropy,\n",
        "                  optimizer=tf.keras.optimizers.SGD(),\n",
        "                  metrics=['accuracy'])\n",
        "\n",
        "history_cnn_v5 = model_cnn_v5.fit(fmnist_train_permutated, \n",
        "                            fmnist_y_train,\n",
        "                            batch_size=batch_size,\n",
        "                            epochs=epochs,\n",
        "                            verbose=1,\n",
        "                            validation_split=0.2)\n",
        "\n",
        "score_cnn_v5 = model_cnn_v5.evaluate(fmnist_test_permutated, \n",
        "                               fmnist_y_test, \n",
        "                               verbose=0)\n",
        "\n",
        "print('Test loss:', score_cnn_v5[0])\n",
        "print('Test accuracy:', score_cnn_v5[1])"
      ],
      "execution_count": null,
      "outputs": [
        {
          "output_type": "stream",
          "name": "stdout",
          "text": [
            "Epoch 1/12\n",
            "375/375 [==============================] - 15s 39ms/step - loss: 2.2873 - accuracy: 0.1502 - val_loss: 2.2448 - val_accuracy: 0.3415\n",
            "Epoch 2/12\n",
            "375/375 [==============================] - 14s 38ms/step - loss: 2.1400 - accuracy: 0.2049 - val_loss: 1.8850 - val_accuracy: 0.3368\n",
            "Epoch 3/12\n",
            "375/375 [==============================] - 15s 39ms/step - loss: 1.8635 - accuracy: 0.2966 - val_loss: 1.4016 - val_accuracy: 0.5246\n",
            "Epoch 4/12\n",
            "375/375 [==============================] - 14s 38ms/step - loss: 1.4810 - accuracy: 0.4271 - val_loss: 1.0645 - val_accuracy: 0.6474\n",
            "Epoch 5/12\n",
            "375/375 [==============================] - 14s 38ms/step - loss: 1.2070 - accuracy: 0.5435 - val_loss: 0.8966 - val_accuracy: 0.6777\n",
            "Epoch 6/12\n",
            "375/375 [==============================] - 14s 38ms/step - loss: 1.0479 - accuracy: 0.6042 - val_loss: 0.7778 - val_accuracy: 0.7165\n",
            "Epoch 7/12\n",
            "375/375 [==============================] - 14s 38ms/step - loss: 0.9451 - accuracy: 0.6464 - val_loss: 0.7293 - val_accuracy: 0.7278\n",
            "Epoch 8/12\n",
            "375/375 [==============================] - 14s 38ms/step - loss: 0.8763 - accuracy: 0.6743 - val_loss: 0.6671 - val_accuracy: 0.7532\n",
            "Epoch 9/12\n",
            "375/375 [==============================] - 14s 38ms/step - loss: 0.8340 - accuracy: 0.6906 - val_loss: 0.6504 - val_accuracy: 0.7603\n",
            "Epoch 10/12\n",
            "375/375 [==============================] - 14s 38ms/step - loss: 0.7901 - accuracy: 0.7067 - val_loss: 0.6177 - val_accuracy: 0.7706\n",
            "Epoch 11/12\n",
            "375/375 [==============================] - 14s 38ms/step - loss: 0.7638 - accuracy: 0.7217 - val_loss: 0.5939 - val_accuracy: 0.7800\n",
            "Epoch 12/12\n",
            "375/375 [==============================] - 14s 38ms/step - loss: 0.7318 - accuracy: 0.7308 - val_loss: 0.5919 - val_accuracy: 0.7857\n",
            "Test loss: 0.6149747371673584\n",
            "Test accuracy: 0.7767999768257141\n"
          ]
        }
      ]
    },
    {
      "cell_type": "markdown",
      "metadata": {
        "id": "yeRe8PVQV0Ap"
      },
      "source": [
        "# Task 3"
      ]
    },
    {
      "cell_type": "code",
      "metadata": {
        "colab": {
          "base_uri": "https://localhost:8080/"
        },
        "id": "bCoVL5ZZKujc",
        "outputId": "fdaa551c-9758-4713-8aa1-a09421c53757"
      },
      "source": [
        "# Task 3\n",
        "# Loading the data\n",
        "\n",
        "############################## Path for Andy PC\n",
        "\n",
        "from google.colab import drive\n",
        "drive.mount('/content/drive')\n",
        "\n",
        "#path = '/content/drive/MyDrive/IDL/'\n",
        "#clock_data = np.load(path + \"images.npy\").astype(\"float32\")\n",
        "#clock_data /= 255\n",
        "#clock_target = np.load(path + \"labels.npy\").astype(\"float32\")\n",
        "\n",
        "############################## Path when uploaded\n",
        "\n",
        "clock_data = np.load(\"drive/MyDrive/images.npy\").astype(\"float32\")\n",
        "clock_data /= 255\n",
        "clock_target = np.load(\"drive/MyDrive/labels.npy\").astype(\"float32\")\n",
        "\n",
        "##############################\n",
        "\n",
        "\n",
        "# Since the data is ordered in ascending order, we need to shuffle it\n",
        "\n",
        "permutation = np.random.permutation(clock_data.shape[0])\n",
        "\n",
        "clock_data = clock_data[permutation]\n",
        "clock_target = clock_target[permutation]\n",
        "\n",
        "print(clock_target[0])\n",
        "\n",
        "# For regression model we want the time from e.g [5. 36.] in format y = 5.36\n",
        "# So we want y=clock_target[i][0].clock_target[i][1]\n",
        "\n",
        "def time_changer(initial):\n",
        "  hr = initial[0]\n",
        "  min = initial[1]/60\n",
        "  time = hr + min\n",
        "  return time\n",
        "\n",
        "clock_target_new = []\n",
        "\n",
        "for i in clock_target:\n",
        "  clock_target_new.append(time_changer(i))\n",
        "\n",
        "clock_target_new = np.array(clock_target_new).astype(\"float32\")\n",
        "print(clock_target_new[0])\n",
        "\n",
        "\n",
        "# Now we put aside 80% for the train set, and 20% for the test set\n",
        "clock_train_x = clock_data[:int(0.8*len(clock_data))]\n",
        "clock_train_y = clock_target_new[:int(0.8*len(clock_data))]\n",
        "clock_test_x = clock_data[int(0.8*len(clock_data)):]\n",
        "clock_test_y = clock_target_new[int(0.8*len(clock_data)):]\n",
        "\n",
        "# Keep in vector form for multi_head\n",
        "clock_target_vec = clock_target # To get our minutes between 0 and 1\n",
        "clock_target_vec[:,1] /= 60\n",
        "clock_train_y_vec = clock_target_vec[:int(0.8*len(clock_data))]\n",
        "clock_test_y_vec = clock_target_vec[int(0.8*len(clock_data)):]"
      ],
      "execution_count": null,
      "outputs": [
        {
          "output_type": "stream",
          "name": "stdout",
          "text": [
            "Drive already mounted at /content/drive; to attempt to forcibly remount, call drive.mount(\"/content/drive\", force_remount=True).\n",
            "[ 6. 31.]\n",
            "6.516667\n"
          ]
        }
      ]
    },
    {
      "cell_type": "code",
      "metadata": {
        "colab": {
          "base_uri": "https://localhost:8080/",
          "height": 644
        },
        "id": "1m71Wy_UKvRO",
        "outputId": "060f2794-85c5-4d0a-95df-0d8c744a2dfb"
      },
      "source": [
        "# Naively use the previous CNN on new data\n",
        "\n",
        "batch_size = 128\n",
        "epochs = 12\n",
        "\n",
        "input = tf.keras.Input(shape=(150, 150, 1), name='Input')\n",
        "\n",
        "input_layer = Conv2D(64, 7, activation='relu', name='relu_1', padding='same')(input)\n",
        "\n",
        "layer1 = MaxPooling2D(2, name='2_1')(input_layer)\n",
        "layer2 = Conv2D(128, 3, activation='relu', name='relu_2', padding='same')(layer1)\n",
        "layer3 = Conv2D(128, 3, activation='relu', name='relu_3', padding='same')(layer2)\n",
        "layer4 = MaxPooling2D(2, name='2_2')(layer3)\n",
        "layer5 = Conv2D(256, 3, activation='relu', name='relu_4', padding='same')(layer4)\n",
        "layer6 = Conv2D(256, 3, activation='relu', name='relu_5', padding='same')(layer5)\n",
        "layer7 = MaxPooling2D(2, name='2_3')(layer6)\n",
        "layer8 = Flatten(name='flatten_1')(layer7)\n",
        "layer9 = Dense(128, activation='relu',name='relu_6')(layer8)\n",
        "layer10 = Dropout(0.5, name='0.5_1')(layer9)\n",
        "layer11 = Dense(64, activation='relu', name='relu_7')(layer10)\n",
        "layer12 = Dropout(0.5, name='0.5_2')(layer11)\n",
        "\n",
        "output_layer = Dense(1, activation='softmax', name='Output_softmax')(layer12)\n",
        "\n",
        "model_clock = tf.keras.Model(inputs=input, \n",
        "                           outputs=output_layer,\n",
        "                           name='model_clock')\n",
        "\n",
        "model_clock.compile(loss=keras.losses.categorical_crossentropy,\n",
        "                  optimizer=tf.keras.optimizers.SGD(),\n",
        "                  metrics=['accuracy'])\n",
        "\n",
        "history_clock = model_clock.fit(clock_train_x, \n",
        "                            clock_train_y,\n",
        "                            batch_size=batch_size,\n",
        "                            epochs=epochs,\n",
        "                            verbose=1,\n",
        "                            validation_split=0.2)\n",
        "\n",
        "score_clock = model_clock.evaluate(clock_test_x, \n",
        "                               clock_test_y, \n",
        "                               verbose=0)\n",
        "\n",
        "print('Test loss:', score_clock[0])\n",
        "print('Test accuracy:', score_clock[1])\n",
        "\n",
        "####################################\n",
        "\n",
        "\"\"\"\n",
        "batch_size = 64\n",
        "epochs = 10\n",
        "\n",
        "input = tf.keras.Input(shape=(150, 150, 1))\n",
        "input_layer = Conv2D(64, kernel_size=5, activation='relu')(input)\n",
        "layer1 = Conv2D(128, kernel_size=3, activation='relu')(input_layer)\n",
        "layer2 = MaxPooling2D(pool_size=2)(layer1)\n",
        "layer3 = Dropout(0.5)(layer2)\n",
        "layer4 = Flatten()(layer3)\n",
        "layer5 = Dense(128, activation='relu')(layer4)\n",
        "layer6 = Dropout(0.2)(layer5)\n",
        "output_layer = Dense(1, activation='softmax')(layer6)\n",
        "\n",
        "model_simple_reg = tf.keras.Model(inputs=input, \n",
        "                           outputs=output_layer,\n",
        "                           name='model_simple_reg')\n",
        "\n",
        "model_simple_reg.compile(loss=keras.losses.categorical_crossentropy,\n",
        "                  optimizer=tf.keras.optimizers.Adam(),\n",
        "                  metrics=['accuracy'])\n",
        "\n",
        "history_reg = model_simple_reg.fit(clock_train_x, \n",
        "                            clock_train_y,\n",
        "                            batch_size=batch_size,\n",
        "                            epochs=epochs,\n",
        "                            validation_split = 0.2)\n",
        "\n",
        "score_reg = model_simple_reg.evaluate(clock_test_x, \n",
        "                               clock_test_y, \n",
        "                               verbose=0)\n",
        "\n",
        "print('Test loss:', score_reg[0])\n",
        "print('Test accuracy:', score_reg[1])\n",
        "\"\"\""
      ],
      "execution_count": null,
      "outputs": [
        {
          "output_type": "stream",
          "name": "stdout",
          "text": [
            "Epoch 1/12\n",
            "90/90 [==============================] - 68s 753ms/step - loss: nan - accuracy: 0.0015 - val_loss: nan - val_accuracy: 0.0014\n",
            "Epoch 2/12\n",
            "90/90 [==============================] - 67s 747ms/step - loss: nan - accuracy: 0.0015 - val_loss: nan - val_accuracy: 0.0014\n",
            "Epoch 3/12\n",
            "90/90 [==============================] - 67s 747ms/step - loss: nan - accuracy: 0.0015 - val_loss: nan - val_accuracy: 0.0014\n",
            "Epoch 4/12\n",
            "90/90 [==============================] - 67s 747ms/step - loss: nan - accuracy: 0.0015 - val_loss: nan - val_accuracy: 0.0014\n",
            "Epoch 5/12\n",
            "90/90 [==============================] - 67s 747ms/step - loss: nan - accuracy: 0.0015 - val_loss: nan - val_accuracy: 0.0014\n",
            "Epoch 6/12\n",
            "90/90 [==============================] - 67s 747ms/step - loss: nan - accuracy: 0.0015 - val_loss: nan - val_accuracy: 0.0014\n",
            "Epoch 7/12\n",
            "90/90 [==============================] - 67s 746ms/step - loss: nan - accuracy: 0.0015 - val_loss: nan - val_accuracy: 0.0014\n",
            "Epoch 8/12\n",
            "90/90 [==============================] - 67s 747ms/step - loss: nan - accuracy: 0.0015 - val_loss: nan - val_accuracy: 0.0014\n",
            "Epoch 9/12\n",
            "90/90 [==============================] - 67s 748ms/step - loss: nan - accuracy: 0.0015 - val_loss: nan - val_accuracy: 0.0014\n",
            "Epoch 10/12\n",
            "90/90 [==============================] - 67s 747ms/step - loss: nan - accuracy: 0.0015 - val_loss: nan - val_accuracy: 0.0014\n",
            "Epoch 11/12\n",
            "90/90 [==============================] - 67s 747ms/step - loss: nan - accuracy: 0.0015 - val_loss: nan - val_accuracy: 0.0014\n",
            "Epoch 12/12\n",
            "90/90 [==============================] - 67s 746ms/step - loss: nan - accuracy: 0.0015 - val_loss: nan - val_accuracy: 0.0014\n",
            "Test loss: nan\n",
            "Test accuracy: 0.0011111111380159855\n"
          ]
        },
        {
          "output_type": "execute_result",
          "data": {
            "application/vnd.google.colaboratory.intrinsic+json": {
              "type": "string"
            },
            "text/plain": [
              "\"\\nbatch_size = 64\\nepochs = 10\\n\\ninput = tf.keras.Input(shape=(150, 150, 1))\\ninput_layer = Conv2D(64, kernel_size=5, activation='relu')(input)\\nlayer1 = Conv2D(128, kernel_size=3, activation='relu')(input_layer)\\nlayer2 = MaxPooling2D(pool_size=2)(layer1)\\nlayer3 = Dropout(0.5)(layer2)\\nlayer4 = Flatten()(layer3)\\nlayer5 = Dense(128, activation='relu')(layer4)\\nlayer6 = Dropout(0.2)(layer5)\\noutput_layer = Dense(1, activation='softmax')(layer6)\\n\\nmodel_simple_reg = tf.keras.Model(inputs=input, \\n                           outputs=output_layer,\\n                           name='model_simple_reg')\\n\\nmodel_simple_reg.compile(loss=keras.losses.categorical_crossentropy,\\n                  optimizer=tf.keras.optimizers.Adam(),\\n                  metrics=['accuracy'])\\n\\nhistory_reg = model_simple_reg.fit(clock_train_x, \\n                            clock_train_y,\\n                            batch_size=batch_size,\\n                            epochs=epochs,\\n                            validation_split = 0.2)\\n\\nscore_reg = model_simple_reg.evaluate(clock_test_x, \\n                               clock_test_y, \\n                               verbose=0)\\n\\nprint('Test loss:', score_reg[0])\\nprint('Test accuracy:', score_reg[1])\\n\""
            ]
          },
          "metadata": {},
          "execution_count": 26
        }
      ]
    },
    {
      "cell_type": "markdown",
      "metadata": {
        "id": "c5MNG7n4byNQ"
      },
      "source": [
        "This does not work at all. Accuracy stays constant and loss only gives NaN."
      ]
    },
    {
      "cell_type": "code",
      "metadata": {
        "id": "pnBJvy5mDL2Y"
      },
      "source": [
        "# Multi-head model #TAKES VERY LONG AND ACCURACY BAD\n",
        "\n",
        "batch_size = 32\n",
        "epochs = 100\n",
        "\n",
        "input = tf.keras.Input(shape=(150, 150, 1))\n",
        "\n",
        "input_layer = Conv2D(64, 7, activation='relu', name='relu_1', padding='same')(input)\n",
        "\n",
        "layer1 = MaxPooling2D(2, name='2_1')(input_layer)\n",
        "layer2 = Conv2D(128, 3, activation='relu', name='relu_2', padding='same')(layer1)\n",
        "layer3 = Conv2D(128, 3, activation='relu', name='relu_3', padding='same')(layer2)\n",
        "layer4 = MaxPooling2D(2, name='2_2')(layer3)\n",
        "layer5 = Conv2D(256, 3, activation='relu', name='relu_4', padding='same')(layer4)\n",
        "layer6 = Conv2D(256, 3, activation='relu', name='relu_5', padding='same')(layer5)\n",
        "layer7 = MaxPooling2D(2, name='2_3')(layer6)\n",
        "layer8 = Flatten(name='flatten_1')(layer7)\n",
        "layer9 = Dense(128, activation='relu', name='relu_6')(layer8)\n",
        "layer9_1 = Dropout(0.2, name='2_3_1')(layer9)\n",
        "layer9_2 = Dense(64, activation='relu', name='relu_6_2')(layer9_1)\n",
        "\n",
        "output_hr = Dense(12, activation='softmax', name='Output_Hr')(layer9_2) # Hour output\n",
        "\n",
        "layer10_0 = Dense(128, activation='relu', name='relu_7_0')(layer8)\n",
        "layer10 = Dropout(0.5, name='0.5_1')(layer10_0)\n",
        "layer11 = Dense(64, activation='relu', name='relu_7')(layer10)\n",
        "layer12 = Dropout(0.5, name='0.5_2')(layer11)\n",
        "\n",
        "output_min = Dense(1, activation='linear', name='Output_Min')(layer12) # Minute output\n",
        "\n",
        "\n",
        "model_multi_head = tf.keras.Model(inputs=input, \n",
        "                                  outputs=[output_hr, output_min], \n",
        "                                  name='model_multi_head')\n",
        "\n",
        "model_multi_head.compile(loss=[keras.losses.sparse_categorical_crossentropy,\n",
        "                          keras.losses.MSE],\n",
        "                  optimizer=tf.keras.optimizers.Adam(),\n",
        "                  metrics=[['accuracy', 'loss'], ['accuracy', 'loss']])\n",
        "\n",
        "\n",
        "history_multi_head = model_multi_head.fit(clock_train_x, \n",
        "                            [clock_train_y_vec[:,0], clock_train_y_vec[:,1]],\n",
        "                            batch_size=batch_size,\n",
        "                            epochs=epochs,\n",
        "                            validation_split = 0.2)\n",
        "\n",
        "score_multi_head = model_multi_head.evaluate(clock_test_x, \n",
        "                               [clock_test_y_vec[:,0], \n",
        "                                clock_test_y_vec[:,1]], \n",
        "                               verbose=0)\n",
        "\n",
        "print('Test loss:', score_multi_head[0])\n",
        "print('Test accuracy:', score_multi_head[1])"
      ],
      "execution_count": null,
      "outputs": []
    },
    {
      "cell_type": "code",
      "metadata": {
        "id": "4xVEM--4WcDd"
      },
      "source": [
        "np.save(\"history.npy\", [history_multi_head.history])\n",
        "history = np.load(\"history.npy\", allow_pickle=True)[0]\n",
        "\n",
        "print(history_multi_head.history.keys())\n",
        "\n",
        "plt.figure()\n",
        "plt.plot(history_multi_head.history[\"Output_Hr_accuracy\"], label=\"Training\")\n",
        "plt.plot(history_multi_head.history[\"val_Output_Hr_accuracy\"], label=\"Validation\")\n",
        "plt.ylim(0, plt.ylim()[1])\n",
        "plt.xlabel(\"Epoch\", fontsize=16)\n",
        "plt.ylabel(\"Accuracy\", fontsize=16)\n",
        "plt.legend(fontsize=15)\n",
        "plt.title(\"Hour accuracy\", fontsize=20)\n",
        "plt.tick_params(axis=\"both\", which=\"major\", labelsize=15)\n",
        "plt.savefig(\"hour_accuracy.png\", bbox_inches=\"tight\", overwrite=True)\n",
        "\n",
        "plt.figure()\n",
        "plt.plot(history_multi_head.history[\"Output_Min_accuracy\"], label=\"Training\")\n",
        "plt.plot(history_multi_head.history[\"val_Output_Min_accuracy\"], label=\"Validation\")\n",
        "plt.ylim(0, plt.ylim()[1])\n",
        "plt.xlabel(\"Epoch\", fontsize=16)\n",
        "plt.ylabel(\"Accuracy\", fontsize=16)\n",
        "plt.legend(fontsize=15)\n",
        "plt.title(\"Minute Accuracy\", fontsize=20)\n",
        "plt.tick_params(axis=\"both\", which=\"major\", labelsize=15)\n",
        "plt.savefig(\"minute_accuracy.png\", bbox_inches=\"tight\", overwrite=True)"
      ],
      "execution_count": null,
      "outputs": []
    },
    {
      "cell_type": "markdown",
      "metadata": {
        "id": "wG7H2bu0CCeM"
      },
      "source": [
        "# Data loading"
      ]
    },
    {
      "cell_type": "code",
      "metadata": {
        "id": "TlTcVe5HCHMk"
      },
      "source": [
        "# Task 3\n",
        "# Loading the data\n",
        "\n",
        "clock_data = np.load(\"drive/MyDrive/images.npy\").astype(\"float32\")\n",
        "clock_data = clock_data.reshape(18000, 150,150)\n",
        "clock_data /= 255.0\n",
        "clock_target = np.load(\"drive/MyDrive/labels.npy\").astype(\"float32\")\n",
        "# Since the data is ordered in ascending order, we need to shuffle it\n",
        "permutation = np.random.permutation(clock_data.shape[0])\n",
        "\n",
        "clock_data = clock_data[permutation]\n",
        "clock_target = clock_target[permutation]"
      ],
      "execution_count": null,
      "outputs": []
    },
    {
      "cell_type": "markdown",
      "metadata": {
        "id": "9k_jJ7slB6f9"
      },
      "source": [
        "# Classification"
      ]
    },
    {
      "cell_type": "code",
      "metadata": {
        "id": "VdNCt-8li46I"
      },
      "source": [
        "####        Classification        ####\n",
        "# Class 1: 0 - 0.29 etc...\n",
        "#Classes = ['0-0.29','0.30-0.59','1-1.29','1.30-1.59']\n",
        "\n",
        "#### 24 classes (for now) ======>>>    class 0 = 0.00-.29, class 1 = 0.30-.59, ... class 24 = 11.30-.59\n",
        "\n",
        "def divide_into_classes(data,divisions_per_hour):\n",
        "    data_classes = []\n",
        "    if divisions_per_hour > 6:\n",
        "        print(\"Warning! Max divisions = 6\")\n",
        "    for i in range(len(data)):\n",
        "        a = int(data[i][0]) * divisions_per_hour\n",
        "        if (data[i][1]/60) >= 1/divisions_per_hour and (data[i][1]/60) < 2/divisions_per_hour:\n",
        "            a += 1\n",
        "        if (data[i][1]/60) >= 2/divisions_per_hour and (data[i][1]/60) < 3/divisions_per_hour:\n",
        "            a += 2\n",
        "        if (data[i][1]/60) >= 3/divisions_per_hour and (data[i][1]/60) < 4/divisions_per_hour:\n",
        "            a += 3\n",
        "        if (data[i][1]/60) >= 4/divisions_per_hour and (data[i][1]/60) < 5/divisions_per_hour:\n",
        "            a += 4\n",
        "        if (data[i][1]/60) >= 5/divisions_per_hour and (data[i][1]/60) < 6/divisions_per_hour:\n",
        "            a += 5\n",
        "        data_classes.append(a)\n",
        "    return data_classes\n",
        "\n",
        "clock_target_class = divide_into_classes(clock_target,2)\n",
        "\n",
        "#List to array\n",
        "clock_target_class = np.array(clock_target_class)\n",
        "# single value to array  [0 1 0 0 0 0], just like in (F)MNIST\n",
        "clock_target_class = np_utils.to_categorical(clock_target_class, num_classes=(max(clock_target_class)+1))\n",
        "\n",
        "# Now we put aside 30%-40-50 etc... for the train set, and 20% for the test set\n",
        "clock_train_x = clock_data[:int(0.8*len(clock_data))]\n",
        "clock_train_y = clock_target_class[:int(0.8*len(clock_data))]\n",
        "clock_test_x = clock_data[int(0.8*len(clock_data)):]\n",
        "clock_test_y = clock_target_class[int(0.8*len(clock_data)):]"
      ],
      "execution_count": null,
      "outputs": []
    },
    {
      "cell_type": "code",
      "metadata": {
        "id": "dXvJfn6TB5TA"
      },
      "source": [
        "#### Multi classification attempt ###\n",
        "batch_size = 32\n",
        "epochs = 25\n",
        "\n",
        "####      This was used for classification of 24 labels: one group per half an hour.\n",
        "\n",
        "DefaultConv2D = partial(keras.layers.Conv2D, kernel_size=3, activation='relu', padding=\"SAME\")\n",
        "\n",
        "model_classifier = keras.models.Sequential([\n",
        "  DefaultConv2D(filters=64, kernel_size=3, input_shape=[150, 150, 1]),\n",
        "  keras.layers.Dropout(0.15),\n",
        "  keras.layers.MaxPooling2D(pool_size=2),\n",
        "  DefaultConv2D(filters=128),\n",
        "  keras.layers.Dropout(0.15),\n",
        "  keras.layers.MaxPooling2D(pool_size=2),\n",
        "  keras.layers.Flatten(),\n",
        "  keras.layers.Dense(units=100, activation='relu'),\n",
        "  keras.layers.Dropout(0.25),\n",
        "  keras.layers.Dense(units=100, activation='relu'),\n",
        "  keras.layers.Dropout(0.25),\n",
        "  keras.layers.Dense(units=24, activation='softmax'),\n",
        "])\n",
        "#### for 48 labels: groups per 15 minutes: just change output layer to 48, and dont forget to do divide_into_class function with 4    ####\n",
        "\n",
        "model_classifier.compile(loss=[keras.losses.categorical_crossentropy], optimizer=tf.keras.optimizers.RMSprop(), metrics=['accuracy'])\n",
        "\n",
        "history_classifier = model_classifier.fit(clock_train_x, clock_train_y, batch_size=batch_size, epochs=epochs, validation_split = 0.2)"
      ],
      "execution_count": null,
      "outputs": []
    },
    {
      "cell_type": "code",
      "metadata": {
        "colab": {
          "base_uri": "https://localhost:8080/",
          "height": 1000
        },
        "id": "Pjh8FBBKnybV",
        "outputId": "d1adb7b4-87d7-4d41-f4fe-d83b2cbb8a2b"
      },
      "source": [
        "# Plot accuracy\n",
        "plt.plot(history_classifier.history['accuracy'],color='blue')\n",
        "plt.plot(history_classifier.history['val_accuracy'],color='blue',linestyle='--')\n",
        "plt.title('Model accuracy')\n",
        "plt.ylabel('Accuracy')\n",
        "plt.xlabel('Epoch')\n",
        "plt.legend(['Train', 'Test'], loc='lower right')\n",
        "plt.savefig(path + 'model_cnn_clock_v1_acc.png')\n",
        "plt.show()\n",
        "\n",
        "# Plot loss\n",
        "plt.plot(history_classifier.history['loss'],color='blue')\n",
        "plt.plot(history_classifier.history['val_loss'],color='blue',linestyle='--')\n",
        "plt.title('Model loss')\n",
        "plt.ylabel('Loss')\n",
        "plt.xlabel('Epoch')\n",
        "plt.legend(['Train', 'Test'], loc='lower right')\n",
        "plt.savefig(path + 'model_cnn_clock_v1_loss.png')\n",
        "plt.show()\n",
        "\n",
        "tf.keras.utils.plot_model(\n",
        "    model_classifier, to_file=path + 'model_cnn_clock_v1.png', \n",
        "    show_shapes=True, \n",
        "    show_dtype=False,\n",
        "    show_layer_names=True, \n",
        "    rankdir='TB', \n",
        "    expand_nested=False, \n",
        "    dpi=50,\n",
        "    layer_range=None,\n",
        ")"
      ],
      "execution_count": null,
      "outputs": [
        {
          "output_type": "display_data",
          "data": {
            "image/png": "[encoded data removed]",
            "text/plain": [
              "<Figure size 432x288 with 1 Axes>"
            ]
          },
          "metadata": {
            "needs_background": "light"
          }
        },
        {
          "output_type": "display_data",
          "data": {
            "image/png": "[encoded data removed]",
            "text/plain": [
              "<Figure size 432x288 with 1 Axes>"
            ]
          },
          "metadata": {
            "needs_background": "light"
          }
        },
        {
          "output_type": "execute_result",
          "data": {
            "image/png": "[encoded data removed]",
            "text/plain": [
              "<IPython.core.display.Image object>"
            ]
          },
          "metadata": {},
          "execution_count": 11
        }
      ]
    },
    {
      "cell_type": "code",
      "metadata": {
        "id": "5C_gtdEd2SY1"
      },
      "source": [
        "# Test a different version (V5) of network similar to final CNN \n",
        "\n",
        "batch_size = 32\n",
        "epochs = 100\n",
        "\n",
        "DefaultConv2D = partial(keras.layers.Conv2D, kernel_size=3, activation='relu', padding=\"SAME\")\n",
        "\n",
        "model_classifier = keras.models.Sequential([\n",
        "  DefaultConv2D(filters=64, kernel_size=3, input_shape=[150, 150, 1]),\n",
        "  keras.layers.MaxPooling2D(pool_size=2),\n",
        "  DefaultConv2D(filters=128),\n",
        "  DefaultConv2D(filters=128),\n",
        "  keras.layers.MaxPooling2D(pool_size=2),\n",
        "  DefaultConv2D(filters=256),\n",
        "  DefaultConv2D(filters=256),\n",
        "  keras.layers.MaxPooling2D(pool_size=2),\n",
        "  keras.layers.Flatten(),\n",
        "  keras.layers.Dense(units=100, activation='relu'),\n",
        "  keras.layers.Dropout(0.5),\n",
        "  keras.layers.Dense(units=75, activation='relu'),\n",
        "  keras.layers.Dropout(0.5),\n",
        "  keras.layers.Dense(units=24, activation='softmax'),\n",
        "])\n",
        "\n",
        "\n",
        "model_classifier.compile(loss=[keras.losses.categorical_crossentropy], \n",
        "                         optimizer=tf.keras.optimizers.RMSprop(), \n",
        "                         metrics=['accuracy'])\n",
        "\n",
        "history_classifier = model_classifier.fit(clock_train_x, \n",
        "                                          clock_train_y, \n",
        "                                          batch_size=batch_size, \n",
        "                                          epochs=epochs, \n",
        "                                          validation_split = 0.2)"
      ],
      "execution_count": null,
      "outputs": []
    },
    {
      "cell_type": "code",
      "metadata": {
        "id": "i1W_UmYw2Xs7"
      },
      "source": [
        "# Plot accuracy\n",
        "plt.plot(history_classifier.history['accuracy'],color='blue')\n",
        "plt.plot(history_classifier.history['val_accuracy'],color='blue',linestyle='--')\n",
        "plt.title('Model accuracy')\n",
        "plt.ylabel('Accuracy')\n",
        "plt.xlabel('Epoch')\n",
        "plt.legend(['Train', 'Test'], loc='lower right')\n",
        "plt.savefig(path + 'model_cnn_clock_v2_acc.png')\n",
        "plt.show()\n",
        "\n",
        "# Plot loss\n",
        "plt.plot(history_classifier.history['loss'],color='blue')\n",
        "plt.plot(history_classifier.history['val_loss'],color='blue',linestyle='--')\n",
        "plt.title('Model loss')\n",
        "plt.ylabel('Loss')\n",
        "plt.xlabel('Epoch')\n",
        "plt.legend(['Train', 'Test'], loc='lower right')\n",
        "plt.savefig(path + 'model_cnn_clock_v2_loss.png')\n",
        "plt.show()\n",
        "\n",
        "tf.keras.utils.plot_model(\n",
        "    model_classifier, to_file=path + 'model_cnn_clock_v2.png', \n",
        "    show_shapes=True, \n",
        "    show_dtype=False,\n",
        "    show_layer_names=True, \n",
        "    rankdir='TB', \n",
        "    expand_nested=False, \n",
        "    dpi=50,\n",
        "    layer_range=None,\n",
        ")"
      ],
      "execution_count": null,
      "outputs": []
    },
    {
      "cell_type": "markdown",
      "metadata": {
        "id": "BXRDN4HuC7Xn"
      },
      "source": [
        "# Regression"
      ]
    },
    {
      "cell_type": "code",
      "metadata": {
        "id": "uLu8MktjC5zc"
      },
      "source": [
        "# For regression model we want the time from e.g [5. 36.] in format y = 5.36\n",
        "# So we want y=clock_target[i][0].clock_target[i][1]\n",
        "def time_changer(initial):\n",
        "  hr = initial[0]\n",
        "  min = initial[1]/60\n",
        "  time = hr + min\n",
        "  return time\n",
        "\n",
        "\n",
        "clock_target_reg_format = []\n",
        "for i in clock_target:\n",
        "    clock_target_reg_format.append(time_changer(i))\n",
        "clock_target_reg_format = np.array(clock_target_reg_format).astype(\"float32\")\n",
        "\n",
        "\n",
        "# Now we put aside 80% for the train set, and 20% for the test set\n",
        "clock_train_x = clock_data[:int(0.3*len(clock_data))]\n",
        "clock_train_y = clock_target_reg_format[:int(0.8*len(clock_data))]\n",
        "clock_test_x = clock_data[int(0.3*len(clock_data)):]\n",
        "clock_test_y = clock_target_reg_format[int(0.8*len(clock_data)):]"
      ],
      "execution_count": null,
      "outputs": []
    },
    {
      "cell_type": "code",
      "metadata": {
        "id": "IhzbCcSIDD_4"
      },
      "source": [
        "####        Scaling and transforming to periodic function values        ###\n",
        "# 0 to 1 by using divide by 12, and then times (2*pi)\n",
        "clock_target_sin = np.array(np.sin(2* np.pi * (clock_target_reg_format/ 12)))\n",
        "clock_target_cos = np.array(np.cos(2* np.pi * (clock_target_reg_format/ 12)))\n",
        "clock_target_sin_cos = np.column_stack((clock_target_sin,clock_target_cos))\n",
        "\n",
        "# Now we put aside 80% for the train set, and 20% for the test set\n",
        "#First 20% actually and then building up\n",
        "clock_train_x = clock_data[:int(0.2*len(clock_data))]\n",
        "clock_train_y = clock_target_sin_cos[:int(0.8*len(clock_data))]\n",
        "clock_test_x = clock_data[int(0.2*len(clock_data)):]\n",
        "clock_test_y = clock_target_sin_cos[int(0.8*len(clock_data)):]"
      ],
      "execution_count": null,
      "outputs": []
    },
    {
      "cell_type": "code",
      "metadata": {
        "id": "uc6rHvySDNcg"
      },
      "source": [
        "batch_size = 32\n",
        "epochs = 2\n",
        "\n",
        "# input image dimensions\n",
        "clock_train_x = clock_train_x.reshape(-1, 150, 150, 1)\n",
        "clock_test_x = clock_test_x.reshape(-1, 150, 150, 1)\n",
        "#input_shape is (150, 150, 1)\n",
        "\n",
        "\n",
        "model_simple_reg = keras.models.Sequential([\n",
        "    keras.layers.Conv2D(64,kernel_size=5, activation='relu', input_shape=(150,150,1)),\n",
        "    keras.layers.Conv2D(128,kernel_size=3, activation='relu'),\n",
        "    keras.layers.MaxPooling2D(pool_size=2),\n",
        "    keras.layers.Dropout(0.5),\n",
        "    keras.layers.Flatten(),\n",
        "    keras.layers.Dense(150, activation='relu'),\n",
        "    keras.layers.Dropout(0.2),\n",
        "    keras.layers.Dense(2, activation='linear')\n",
        "    ])\n",
        "\n",
        "model_simple_reg = tf.keras.Model(inputs=input, \n",
        "                           outputs=output_layer,\n",
        "                           name='model_simple_reg')\n",
        "\n",
        "model_simple_reg.compile(loss='mean_squared_error',\n",
        "                  optimizer=tf.keras.optimizers.RMSprop(),\n",
        "                  metrics='mae')\n",
        "\n",
        "history_reg = model_simple_reg.fit(clock_train_x, clock_train_y, batch_size=batch_size, epochs=epochs)\n",
        "\n",
        "mse_test = model_simple_reg.evaluate(clock_test_x, clock_test_y)"
      ],
      "execution_count": null,
      "outputs": []
    },
    {
      "cell_type": "code",
      "metadata": {
        "id": "RASaiq7PAZwm"
      },
      "source": [
        "# Plot accuracy\n",
        "plt.plot(history_reg.history['loss'],color='blue')\n",
        "plt.plot(history_reg.history['val_loss'],color='blue',linestyle='--')\n",
        "plt.title('Model regression accuracy')\n",
        "plt.ylabel('MSE')\n",
        "plt.xlabel('Epoch')\n",
        "plt.legend(['Train', 'Test'], loc='lower right')\n",
        "plt.savefig('model_regression_clock_mse.png')\n",
        "plt.show()\n",
        "\n",
        "# Plot loss\n",
        "plt.plot(history_reg.history['mae'],color='blue')\n",
        "plt.plot(history_reg.history['val_mae'],color='blue',linestyle='--')\n",
        "plt.title('Model regression mae')\n",
        "plt.ylabel('Mean Absolute Error')\n",
        "plt.xlabel('Epoch')\n",
        "plt.legend(['Train', 'Test'], loc='lower right')\n",
        "plt.savefig('model_regression_clock_mae.png')\n",
        "plt.show()\n",
        "\n",
        "\n",
        "tf.keras.utils.plot_model(\n",
        "    model_simple_reg, to_file='model_regression_clock.png', \n",
        "    show_shapes=True, \n",
        "    show_dtype=False,\n",
        "    show_layer_names=True, \n",
        "    rankdir='TB', \n",
        "    expand_nested=False, \n",
        "    dpi=50,\n",
        "    layer_range=None,\n",
        ")"
      ],
      "execution_count": null,
      "outputs": []
    }
  ]
}
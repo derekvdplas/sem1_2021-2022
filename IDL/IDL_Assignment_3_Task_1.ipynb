{
  "nbformat": 4,
  "nbformat_minor": 0,
  "metadata": {
    "kernelspec": {
      "display_name": "Python 3.7.9 64-bit ('gantest': conda)",
      "language": "python",
      "name": "python37964bitgantestcondaa185d19983f04a6b8b2364b9d0a00403"
    },
    "language_info": {
      "codemirror_mode": {
        "name": "ipython",
        "version": 3
      },
      "file_extension": ".py",
      "mimetype": "text/x-python",
      "name": "python",
      "nbconvert_exporter": "python",
      "pygments_lexer": "ipython3",
      "version": "3.7.9-final"
    },
    "colab": {
      "name": "IDL - Assignment 3 - Task 1.ipynb",
      "provenance": [],
      "collapsed_sections": []
    },
    "accelerator": "GPU"
  },
  "cells": [
    {
      "cell_type": "markdown",
      "metadata": {
        "id": "FZ7Xx__nJmj7"
      },
      "source": [
        "# Introduction to Deep Learning\n",
        "## Assignment 3\n",
        "### Task 1: Recurrent Neural Networks\n",
        "<img src=\"https://miro.medium.com/max/1400/1*1JcHGUU7rFgtXC_mydUA_Q.jpeg\" width=\"500\"> \n",
        "\n",
        "The goal of this task is to learn how to use encoder-decoder recurrent models. Specifically we will be dealing with a sequence to sequence problem and try to develop a neural network that can learn the principles behind simple arithmetic operations.\n",
        "\n",
        "\n",
        "\n",
        "To work on this notebook you should create a copy of it."
      ]
    },
    {
      "cell_type": "code",
      "metadata": {
        "id": "w3nzYbXOJmj8"
      },
      "source": [
        "import tensorflow as tf\n",
        "import matplotlib.pyplot as plt\n",
        "import cv2\n",
        "import numpy as np\n",
        "import tensorflow as tf\n",
        "from sklearn.model_selection import train_test_split\n",
        "\n",
        "from tensorflow.keras.layers import Dense, RNN, LSTM, Flatten, TimeDistributed, LSTMCell, Dropout\n",
        "from tensorflow.keras.layers import RepeatVector, Conv2D, SimpleRNN, GRU, Reshape, ConvLSTM2D, Conv2DTranspose"
      ],
      "execution_count": 1,
      "outputs": []
    },
    {
      "cell_type": "markdown",
      "metadata": {
        "id": "sP__1utGJmj_"
      },
      "source": [
        "# Function definitions for creating the dataset\n",
        "\n",
        "In order to create image queries of simple arithmetic operations such as '51+31' or '42-10' we need to create images of '+' and '-' signs using ***open-cv*** library. We will use these operand signs together with the MNIST dataset."
      ]
    },
    {
      "cell_type": "code",
      "metadata": {
        "id": "Z7RGPMxLJmkA"
      },
      "source": [
        "# Create plus/minus signs\n",
        "def generate_images(cross=False, n=50):\n",
        "    x = np.random.randint(12, 16, (n, 2))\n",
        "    y1 = np.random.randint(4, 8, n)\n",
        "    y2 = np.random.randint(20, 24, n)\n",
        "    \n",
        "    blank = np.zeros([n, 28, 28])\n",
        "    for i in range(n):\n",
        "        line = cv2.line(blank[i], (y1[i], x[i,0]), (y2[i], x[i, 1]), (255,0,0), 2, cv2.LINE_AA)\n",
        "        if cross:\n",
        "            line = cv2.line(blank[i], (x[i,0], y1[i]), (x[i, 1], y2[i]), (255,0,0), 2, cv2.LINE_AA)\n",
        "\n",
        "    return blank\n",
        "\n",
        "def show_generated(images):\n",
        "    for i in range(20):\n",
        "        plt.subplot(5, 5, i+1)\n",
        "        plt.axis('off')\n",
        "        plt.imshow(images[i])\n",
        "    plt.show()\n",
        "\n",
        "#show_generated(generate_images())\n",
        "#show_generated(generate_images(cross=True))"
      ],
      "execution_count": 2,
      "outputs": []
    },
    {
      "cell_type": "code",
      "metadata": {
        "tags": [],
        "id": "Lx-Pt6ypJmkD"
      },
      "source": [
        "import random\n",
        "\n",
        "def create_data(highest_integer):\n",
        "    \"\"\"\n",
        "    Creates the following data for all pairs of integers up to [highest integer]+[highest_integer]:\n",
        "\n",
        "    @return:\n",
        "    X_text: '151+ 21' -> text query of an arithmetic operation\n",
        "    X_img : Stack of MNIST images corresponding to the query (7 x 28 x 28)\n",
        "    y_text: ' 172' -> answer of the arithmetic text query\n",
        "    y_img :  Stack of MNIST images corresponding to the answer (4 x 28 x 28)\n",
        "\n",
        "    Images for digits are picked randomly from the whole MNIST dataset.\n",
        "    \"\"\"\n",
        "\n",
        "    num_indices = [np.where(MNIST_labels==x) for x in range(10)]\n",
        "    num_data = [MNIST_data[inds] for inds in num_indices]\n",
        "    image_mapping = dict(zip(unique_characters[:10], num_data))\n",
        "    image_mapping['-'] = generate_images()\n",
        "    image_mapping['+'] = generate_images(cross=True)\n",
        "    image_mapping[' '] = np.zeros([1, 28, 28])\n",
        "\n",
        "    X_text, X_img, y_text, y_img = [], [], [], []\n",
        "    for i in range(highest_integer + 1):\n",
        "        for j in range(highest_integer + 1):\n",
        "            \n",
        "            i_char = to_padded_chars(i, max_len=max_int_length)\n",
        "            j_char = to_padded_chars(j, max_len=max_int_length)\n",
        "\n",
        "            for sign in ['-', '+']:\n",
        "                query_string = i_char + sign + j_char\n",
        "                query_image = []\n",
        "                for n, char in enumerate(query_string):\n",
        "                    image_set = image_mapping[char]\n",
        "                    index = np.random.randint(0, len(image_set), 1)\n",
        "                    query_image.append(image_set[index].squeeze())\n",
        "\n",
        "                result = eval(query_string)\n",
        "                result_string = to_padded_chars(result, max_len=max_answer_length)\n",
        "                result_image = []\n",
        "                for n, char in enumerate(result_string):\n",
        "                    image_set = image_mapping[char]\n",
        "                    index = np.random.randint(0, len(image_set), 1)\n",
        "                    result_image.append(image_set[index].squeeze())\n",
        "\n",
        "                X_text.append(query_string)\n",
        "                X_img.append(np.stack(query_image))\n",
        "                y_text.append(result_string)\n",
        "                y_img.append(np.stack(result_image))\n",
        "            \n",
        "    return np.stack(X_text), np.stack(X_img)/255., np.stack(y_text), np.stack(y_img)/255.\n",
        "  \n",
        "def to_padded_chars(integer, max_len=3, pad_right=False):\n",
        "    \"\"\"\n",
        "    Returns a string of len()=max_len, containing the integer padded with ' ' on either right or left side\n",
        "    \"\"\"\n",
        "    length = len(str(integer))\n",
        "    padding = (max_len - length) * ' '\n",
        "    if pad_right:\n",
        "        return str(integer) + padding\n",
        "    else:\n",
        "        return padding + str(integer)\n"
      ],
      "execution_count": 3,
      "outputs": []
    },
    {
      "cell_type": "markdown",
      "metadata": {
        "id": "bTMHYBf4baih"
      },
      "source": [
        "# Creating our data\n",
        "\n",
        "The dataset consists of 80000 samples that have two kinds of inputs and labels:\n",
        "\n",
        "  X_text: strings containing queries of length 7: ['  1+  1', '174- 18', ...] \n",
        "\n",
        "  X_image: a stack of images representing a single query, dimensions: [7, 28, 28]\n",
        "\n",
        "  y_text: strings containing answers of length 4: ['   2', ' 156']\n",
        "\n",
        "  y_image: a stack of images that represents the answer to a query, dimensions: [4, 28, 28]"
      ]
    },
    {
      "cell_type": "code",
      "metadata": {
        "scrolled": false,
        "id": "y0N1vtdLJmkG",
        "colab": {
          "base_uri": "https://localhost:8080/"
        },
        "outputId": "3fd3edd7-cc09-4750-cc7f-f7b57093a932"
      },
      "source": [
        "# Illustrate the generated query/answer pairs\n",
        "\n",
        "unique_characters = '0123456789+- ' # All unique characters that are used in the queries (13 in total: digits 0-9, 2 operands [+, -], and a space character ' '.)\n",
        "highest_integer = 199 # Highest value of integers contained in the queries\n",
        "max_int_length = len(str(highest_integer)) # \n",
        "max_query_length = max_int_length * 2 + 1 # Maximum length of the query string (consists of two integers and an operand [e.g. '22+10'])\n",
        "max_answer_length = max_int_length + 1    # Maximum length of the answer string\n",
        "\n",
        "# Create the data (might take around a minute)\n",
        "(MNIST_data, MNIST_labels), _ = tf.keras.datasets.mnist.load_data()\n",
        "X_text, X_img, y_text, y_img = create_data(highest_integer)\n",
        "print(X_text.shape, X_img.shape, y_text.shape, y_img.shape)\n",
        "\n",
        "\n",
        "## Display the samples that were created\n",
        "def display_sample(n):\n",
        "    labs = ['X_img:', 'y_img:']\n",
        "    for i, data in enumerate([X_img, y_img]):\n",
        "        plt.subplot(1,2,i+1)\n",
        "        plt.axis('off')\n",
        "        plt.title(labs[i])\n",
        "        plt.imshow(np.hstack(data[n]), cmap='gray')\n",
        "    print('='*50, f'\\nSample ID: {n}\\n\\nX_text: \"{X_text[n]}\" = y_text: \"{y_text[n]}\"')\n",
        "    plt.show()\n",
        "\n",
        "#for _ in range(10):\n",
        "#    display_sample(np.random.randint(0, 80000, 1)[0])"
      ],
      "execution_count": 4,
      "outputs": [
        {
          "output_type": "stream",
          "name": "stdout",
          "text": [
            "Downloading data from https://storage.googleapis.com/tensorflow/tf-keras-datasets/mnist.npz\n",
            "11493376/11490434 [==============================] - 0s 0us/step\n",
            "11501568/11490434 [==============================] - 0s 0us/step\n",
            "(80000,) (80000, 7, 28, 28) (80000,) (80000, 4, 28, 28)\n"
          ]
        }
      ]
    },
    {
      "cell_type": "code",
      "metadata": {
        "id": "rePVm6duJmkJ",
        "colab": {
          "base_uri": "https://localhost:8080/"
        },
        "outputId": "e3892725-9be0-46dc-c57c-3955960bf143"
      },
      "source": [
        "# One-hot encoding/decoding the text queries/answers so that they can be processed using RNNs\n",
        "# You should use these functions to convert your strings and read out the output of your networks\n",
        "\n",
        "def encode_labels(labels, max_len=4):\n",
        "    n = len(labels)\n",
        "    length = len(labels[0])\n",
        "    char_map = dict(zip(unique_characters, range(len(unique_characters))))\n",
        "    one_hot = np.zeros([n, length, len(unique_characters)])\n",
        "    for i, label in enumerate(labels):\n",
        "        m = np.zeros([length, len(unique_characters)])\n",
        "        for j, char in enumerate(label):\n",
        "            m[j, char_map[char]] = 1\n",
        "        one_hot[i] = m\n",
        "\n",
        "    return one_hot \n",
        "\n",
        "def decode_labels(labels):\n",
        "    pred = np.argmax(labels, axis=1)\n",
        "    predicted = ''.join([unique_characters[i] for i in pred])\n",
        "    return predicted\n",
        "\n",
        "X_text_onehot = encode_labels(X_text)\n",
        "y_text_onehot = encode_labels(y_text)\n",
        "\n",
        "print(X_text_onehot.shape, y_text_onehot.shape)"
      ],
      "execution_count": 5,
      "outputs": [
        {
          "output_type": "stream",
          "name": "stdout",
          "text": [
            "(80000, 7, 13) (80000, 4, 13)\n"
          ]
        }
      ]
    },
    {
      "cell_type": "markdown",
      "metadata": {
        "id": "7-pNByj-JmkL"
      },
      "source": [
        "---\n",
        "---\n",
        "\n",
        "# 1.1 Text-to-text RNN model\n",
        "\n",
        "The following code showcases how Recurrent neural networks are built using Keras. Several new layers are going to be used:\n",
        "\n",
        "1. LSTM \n",
        "2. TimeDistributed\n",
        "3. RepeatVector"
      ]
    },
    {
      "cell_type": "markdown",
      "metadata": {
        "id": "iyFuSEGyYS7v"
      },
      "source": [
        "The following code shows the basic architecture of a Recurrent Neural Network\n",
        "LSTM (Long Short Term Memory) layers can be replaced either with SimpleRNN or GRU (Gated Recurrent Units).\n"
      ]
    },
    {
      "cell_type": "markdown",
      "metadata": {
        "id": "HPKKMUMxZmVS"
      },
      "source": [
        "\n",
        "<img src=\"https://miro.medium.com/max/1400/1*1JcHGUU7rFgtXC_mydUA_Q.jpeg\" width=\"500\"> \n"
      ]
    },
    {
      "cell_type": "code",
      "metadata": {
        "id": "Tll54DIrZwbK",
        "colab": {
          "base_uri": "https://localhost:8080/"
        },
        "outputId": "7010b4d4-ff2b-4351-fc7b-305eadbc4232"
      },
      "source": [
        "# We start by initializing a sequential model\n",
        "text2text = tf.keras.Sequential()\n",
        "\n",
        "# \"Encode\" the input sequence using an RNN, producing an output of size 256.\n",
        "# In this case the size of our input vectors is [7, 13] as we have queries of length 7 and 13 unique characters. Each of these 7 elements in the query will be fed to the network one by one,\n",
        "# as shown in the image above (except with 7 elements).\n",
        "# Hint: In other applications, where your input sequences have a variable length (e.g. sentences), you would use input_shape=(None, unique_characters).\n",
        "text2text.add(LSTM(256, input_shape=(max_query_length, len(unique_characters))))\n",
        "\n",
        "# As the decoder RNN's input, repeatedly provide with the last output of RNN for each time step. Repeat 4 times as that's the maximum length of the output (e.g. '  1-199' = '-198')\n",
        "# when using 3-digit integers in queries. In other words, the RNN will always produce 4 characters as its output.\n",
        "text2text.add(RepeatVector(max_answer_length))\n",
        "\n",
        "# By setting return_sequences to True, return not only the last output but all the outputs so far in the form of (num_samples, timesteps, output_dim). This is necessary as TimeDistributed in the below expects\n",
        "# the first dimension to be the timesteps.\n",
        "text2text.add(LSTM(128, return_sequences=True))\n",
        "\n",
        "# Apply a dense layer to the every temporal slice of an input. For each of step of the output sequence, decide which character should be chosen.\n",
        "text2text.add(TimeDistributed(Dense(len(unique_characters), activation='sigmoid')))\n",
        "\n",
        "# Next we compile the model using categorical crossentropy as our loss function.\n",
        "text2text.compile(loss='categorical_crossentropy', optimizer='adam', metrics=['accuracy'])\n",
        "text2text.summary()"
      ],
      "execution_count": null,
      "outputs": [
        {
          "output_type": "stream",
          "name": "stdout",
          "text": [
            "Model: \"sequential\"\n",
            "_________________________________________________________________\n",
            " Layer (type)                Output Shape              Param #   \n",
            "=================================================================\n",
            " lstm (LSTM)                 (None, 256)               276480    \n",
            "                                                                 \n",
            " repeat_vector (RepeatVector  (None, 4, 256)           0         \n",
            " )                                                               \n",
            "                                                                 \n",
            " lstm_1 (LSTM)               (None, 4, 128)            197120    \n",
            "                                                                 \n",
            " time_distributed (TimeDistr  (None, 4, 13)            1677      \n",
            " ibuted)                                                         \n",
            "                                                                 \n",
            "=================================================================\n",
            "Total params: 475,277\n",
            "Trainable params: 475,277\n",
            "Non-trainable params: 0\n",
            "_________________________________________________________________\n"
          ]
        }
      ]
    },
    {
      "cell_type": "markdown",
      "metadata": {
        "id": "r4xRDPrXaFGD"
      },
      "source": [
        "### Your tasks:\n"
      ]
    },
    {
      "cell_type": "markdown",
      "source": [
        "# 1.2 Testing and evaluating accuracy and generalization: capabilites"
      ],
      "metadata": {
        "id": "Ba8bpWOKduE9"
      }
    },
    {
      "cell_type": "code",
      "metadata": {
        "id": "mz6QkPAdzywk",
        "colab": {
          "base_uri": "https://localhost:8080/"
        },
        "outputId": "34e34e59-9ee9-48bc-dbbc-ba89404dae36"
      },
      "source": [
        "# Train and experiment with the text-to-text RNN Model by using X_text and y_text as your inputs/outputs\n",
        "# 1. Try different ratios of train/test splits\n",
        "\n",
        "splits = []\n",
        "\n",
        "for split in [0.1, 0.2, 0.3, 0.4, 0.5, 0.6, 0.7, 0.8, 0.9]:\n",
        "    text2text = tf.keras.Sequential()\n",
        "    text2text.add(LSTM(256, input_shape=(max_query_length, len(unique_characters))))\n",
        "    text2text.add(RepeatVector(max_answer_length))\n",
        "    text2text.add(LSTM(128, return_sequences=True))\n",
        "    text2text.add(TimeDistributed(Dense(len(unique_characters), activation='softmax')))\n",
        "    text2text.compile(loss='CategoricalCrossentropy', optimizer='rmsprop', metrics=['accuracy'])\n",
        "\n",
        "    history = text2text.fit(X_text_onehot, y_text_onehot, batch_size=64, epochs=10, validation_split=split)\n",
        "    splits.append([split, history.history[\"val_accuracy\"]])"
      ],
      "execution_count": null,
      "outputs": [
        {
          "output_type": "stream",
          "name": "stdout",
          "text": [
            "Epoch 1/10\n",
            "1125/1125 [==============================] - 18s 13ms/step - loss: 1.3195 - accuracy: 0.4837 - val_loss: 1.2785 - val_accuracy: 0.4992\n",
            "Epoch 2/10\n",
            "1125/1125 [==============================] - 13s 12ms/step - loss: 1.0152 - accuracy: 0.6026 - val_loss: 1.0912 - val_accuracy: 0.5478\n",
            "Epoch 3/10\n",
            "1125/1125 [==============================] - 13s 12ms/step - loss: 0.8749 - accuracy: 0.6536 - val_loss: 1.1129 - val_accuracy: 0.5474\n",
            "Epoch 4/10\n",
            "1125/1125 [==============================] - 13s 12ms/step - loss: 0.7988 - accuracy: 0.6866 - val_loss: 1.1218 - val_accuracy: 0.5637\n",
            "Epoch 5/10\n",
            "1125/1125 [==============================] - 13s 12ms/step - loss: 0.6218 - accuracy: 0.7627 - val_loss: 0.8713 - val_accuracy: 0.6633\n",
            "Epoch 6/10\n",
            "1125/1125 [==============================] - 14s 12ms/step - loss: 0.3643 - accuracy: 0.8779 - val_loss: 0.7008 - val_accuracy: 0.7122\n",
            "Epoch 7/10\n",
            "1125/1125 [==============================] - 13s 12ms/step - loss: 0.2202 - accuracy: 0.9352 - val_loss: 0.4838 - val_accuracy: 0.8267\n",
            "Epoch 8/10\n",
            "1125/1125 [==============================] - 13s 12ms/step - loss: 0.1421 - accuracy: 0.9605 - val_loss: 0.7506 - val_accuracy: 0.7544\n",
            "Epoch 9/10\n",
            "1125/1125 [==============================] - 13s 12ms/step - loss: 0.0964 - accuracy: 0.9737 - val_loss: 0.5957 - val_accuracy: 0.7904\n",
            "Epoch 10/10\n",
            "1125/1125 [==============================] - 13s 12ms/step - loss: 0.0712 - accuracy: 0.9805 - val_loss: 0.8689 - val_accuracy: 0.7418\n",
            "Epoch 1/10\n",
            "1000/1000 [==============================] - 17s 14ms/step - loss: 1.3426 - accuracy: 0.4779 - val_loss: 1.3447 - val_accuracy: 0.4839\n",
            "Epoch 2/10\n",
            "1000/1000 [==============================] - 13s 13ms/step - loss: 1.0370 - accuracy: 0.5931 - val_loss: 1.2565 - val_accuracy: 0.5335\n",
            "Epoch 3/10\n",
            "1000/1000 [==============================] - 12s 12ms/step - loss: 0.8967 - accuracy: 0.6426 - val_loss: 1.7464 - val_accuracy: 0.4790\n",
            "Epoch 4/10\n",
            "1000/1000 [==============================] - 13s 13ms/step - loss: 0.8313 - accuracy: 0.6705 - val_loss: 1.5614 - val_accuracy: 0.5397\n",
            "Epoch 5/10\n",
            "1000/1000 [==============================] - 12s 12ms/step - loss: 0.7852 - accuracy: 0.6920 - val_loss: 1.8340 - val_accuracy: 0.4967\n",
            "Epoch 6/10\n",
            "1000/1000 [==============================] - 12s 12ms/step - loss: 0.7011 - accuracy: 0.7290 - val_loss: 1.5954 - val_accuracy: 0.5266\n",
            "Epoch 7/10\n",
            "1000/1000 [==============================] - 12s 12ms/step - loss: 0.4739 - accuracy: 0.8258 - val_loss: 2.1710 - val_accuracy: 0.5335\n",
            "Epoch 8/10\n",
            "1000/1000 [==============================] - 12s 12ms/step - loss: 0.2540 - accuracy: 0.9278 - val_loss: 3.0941 - val_accuracy: 0.5430\n",
            "Epoch 9/10\n",
            "1000/1000 [==============================] - 12s 12ms/step - loss: 0.1437 - accuracy: 0.9613 - val_loss: 3.5052 - val_accuracy: 0.5415\n",
            "Epoch 10/10\n",
            "1000/1000 [==============================] - 13s 13ms/step - loss: 0.0923 - accuracy: 0.9740 - val_loss: 4.3102 - val_accuracy: 0.5222\n",
            "Epoch 1/10\n",
            "875/875 [==============================] - 17s 15ms/step - loss: 1.3356 - accuracy: 0.4828 - val_loss: 1.4060 - val_accuracy: 0.4504\n",
            "Epoch 2/10\n",
            "875/875 [==============================] - 11s 13ms/step - loss: 1.0339 - accuracy: 0.5923 - val_loss: 1.8140 - val_accuracy: 0.4804\n",
            "Epoch 3/10\n",
            "875/875 [==============================] - 11s 13ms/step - loss: 0.8974 - accuracy: 0.6428 - val_loss: 1.9316 - val_accuracy: 0.4690\n",
            "Epoch 4/10\n",
            "875/875 [==============================] - 11s 13ms/step - loss: 0.8325 - accuracy: 0.6699 - val_loss: 2.3423 - val_accuracy: 0.4516\n",
            "Epoch 5/10\n",
            "875/875 [==============================] - 11s 13ms/step - loss: 0.7880 - accuracy: 0.6913 - val_loss: 2.1252 - val_accuracy: 0.4767\n",
            "Epoch 6/10\n",
            "875/875 [==============================] - 13s 14ms/step - loss: 0.7065 - accuracy: 0.7253 - val_loss: 2.5602 - val_accuracy: 0.4715\n",
            "Epoch 7/10\n",
            "875/875 [==============================] - 12s 14ms/step - loss: 0.5146 - accuracy: 0.8069 - val_loss: 3.3661 - val_accuracy: 0.4694\n",
            "Epoch 8/10\n",
            "875/875 [==============================] - 11s 13ms/step - loss: 0.3032 - accuracy: 0.9061 - val_loss: 4.1936 - val_accuracy: 0.4710\n",
            "Epoch 9/10\n",
            "875/875 [==============================] - 11s 13ms/step - loss: 0.1779 - accuracy: 0.9538 - val_loss: 5.1022 - val_accuracy: 0.4662\n",
            "Epoch 10/10\n",
            "875/875 [==============================] - 13s 14ms/step - loss: 0.1121 - accuracy: 0.9706 - val_loss: 5.4729 - val_accuracy: 0.4681\n",
            "Epoch 1/10\n",
            "750/750 [==============================] - 17s 16ms/step - loss: 1.3655 - accuracy: 0.4711 - val_loss: 1.5347 - val_accuracy: 0.4364\n",
            "Epoch 2/10\n",
            "750/750 [==============================] - 10s 14ms/step - loss: 1.0707 - accuracy: 0.5800 - val_loss: 1.6630 - val_accuracy: 0.4382\n",
            "Epoch 3/10\n",
            "750/750 [==============================] - 11s 15ms/step - loss: 0.9180 - accuracy: 0.6358 - val_loss: 2.1317 - val_accuracy: 0.4256\n",
            "Epoch 4/10\n",
            "750/750 [==============================] - 10s 14ms/step - loss: 0.8462 - accuracy: 0.6657 - val_loss: 2.5758 - val_accuracy: 0.4198\n",
            "Epoch 5/10\n",
            "750/750 [==============================] - 10s 14ms/step - loss: 0.8022 - accuracy: 0.6839 - val_loss: 2.9954 - val_accuracy: 0.4112\n",
            "Epoch 6/10\n",
            "750/750 [==============================] - 11s 14ms/step - loss: 0.7679 - accuracy: 0.7002 - val_loss: 3.1464 - val_accuracy: 0.4262\n",
            "Epoch 7/10\n",
            "750/750 [==============================] - 10s 14ms/step - loss: 0.7163 - accuracy: 0.7242 - val_loss: 3.6097 - val_accuracy: 0.4157\n",
            "Epoch 8/10\n",
            "750/750 [==============================] - 10s 14ms/step - loss: 0.5807 - accuracy: 0.7806 - val_loss: 3.8846 - val_accuracy: 0.4233\n",
            "Epoch 9/10\n",
            "750/750 [==============================] - 11s 15ms/step - loss: 0.3613 - accuracy: 0.8803 - val_loss: 4.5869 - val_accuracy: 0.4257\n",
            "Epoch 10/10\n",
            "750/750 [==============================] - 10s 14ms/step - loss: 0.2154 - accuracy: 0.9448 - val_loss: 5.3482 - val_accuracy: 0.4241\n",
            "Epoch 1/10\n",
            "625/625 [==============================] - 13s 16ms/step - loss: 1.3857 - accuracy: 0.4594 - val_loss: 1.9657 - val_accuracy: 0.4060\n",
            "Epoch 2/10\n",
            "625/625 [==============================] - 10s 16ms/step - loss: 1.0968 - accuracy: 0.5696 - val_loss: 2.2183 - val_accuracy: 0.3974\n",
            "Epoch 3/10\n",
            "625/625 [==============================] - 9s 15ms/step - loss: 0.9322 - accuracy: 0.6326 - val_loss: 2.5735 - val_accuracy: 0.4234\n",
            "Epoch 4/10\n",
            "625/625 [==============================] - 10s 15ms/step - loss: 0.8428 - accuracy: 0.6699 - val_loss: 2.8719 - val_accuracy: 0.4323\n",
            "Epoch 5/10\n",
            "625/625 [==============================] - 9s 15ms/step - loss: 0.7928 - accuracy: 0.6887 - val_loss: 3.1276 - val_accuracy: 0.4063\n",
            "Epoch 6/10\n",
            "625/625 [==============================] - 9s 15ms/step - loss: 0.7568 - accuracy: 0.7056 - val_loss: 3.3424 - val_accuracy: 0.4039\n",
            "Epoch 7/10\n",
            "625/625 [==============================] - 10s 15ms/step - loss: 0.7252 - accuracy: 0.7200 - val_loss: 3.5828 - val_accuracy: 0.3895\n",
            "Epoch 8/10\n",
            "625/625 [==============================] - 9s 15ms/step - loss: 0.6889 - accuracy: 0.7375 - val_loss: 3.9400 - val_accuracy: 0.3701\n",
            "Epoch 9/10\n",
            "625/625 [==============================] - 10s 16ms/step - loss: 0.6047 - accuracy: 0.7717 - val_loss: 4.2677 - val_accuracy: 0.3709\n",
            "Epoch 10/10\n",
            "625/625 [==============================] - 10s 16ms/step - loss: 0.4099 - accuracy: 0.8563 - val_loss: 4.8427 - val_accuracy: 0.3708\n",
            "Epoch 1/10\n",
            "500/500 [==============================] - 13s 18ms/step - loss: 1.4128 - accuracy: 0.4501 - val_loss: 2.2335 - val_accuracy: 0.3458\n",
            "Epoch 2/10\n",
            "500/500 [==============================] - 8s 16ms/step - loss: 1.1342 - accuracy: 0.5572 - val_loss: 2.2624 - val_accuracy: 0.4102\n",
            "Epoch 3/10\n",
            "500/500 [==============================] - 8s 17ms/step - loss: 0.9768 - accuracy: 0.6135 - val_loss: 2.4830 - val_accuracy: 0.4118\n",
            "Epoch 4/10\n",
            "500/500 [==============================] - 8s 16ms/step - loss: 0.8695 - accuracy: 0.6588 - val_loss: 2.7862 - val_accuracy: 0.4015\n",
            "Epoch 5/10\n",
            "500/500 [==============================] - 8s 17ms/step - loss: 0.7933 - accuracy: 0.6902 - val_loss: 2.9751 - val_accuracy: 0.3960\n",
            "Epoch 6/10\n",
            "500/500 [==============================] - 8s 16ms/step - loss: 0.7088 - accuracy: 0.7287 - val_loss: 3.4555 - val_accuracy: 0.3889\n",
            "Epoch 7/10\n",
            "500/500 [==============================] - 8s 17ms/step - loss: 0.6097 - accuracy: 0.7747 - val_loss: 3.6876 - val_accuracy: 0.3984\n",
            "Epoch 8/10\n",
            "500/500 [==============================] - 8s 17ms/step - loss: 0.4934 - accuracy: 0.8205 - val_loss: 4.3593 - val_accuracy: 0.3858\n",
            "Epoch 9/10\n",
            "500/500 [==============================] - 8s 17ms/step - loss: 0.3440 - accuracy: 0.8855 - val_loss: 4.7338 - val_accuracy: 0.3958\n",
            "Epoch 10/10\n",
            "500/500 [==============================] - 8s 17ms/step - loss: 0.2354 - accuracy: 0.9327 - val_loss: 5.3170 - val_accuracy: 0.3865\n",
            "Epoch 1/10\n",
            "375/375 [==============================] - 11s 22ms/step - loss: 1.4530 - accuracy: 0.4378 - val_loss: 2.2960 - val_accuracy: 0.3442\n",
            "Epoch 2/10\n",
            "375/375 [==============================] - 9s 25ms/step - loss: 1.1832 - accuracy: 0.5393 - val_loss: 2.3291 - val_accuracy: 0.3447\n",
            "Epoch 3/10\n",
            "375/375 [==============================] - 7s 19ms/step - loss: 1.0438 - accuracy: 0.5896 - val_loss: 2.4959 - val_accuracy: 0.3547\n",
            "Epoch 4/10\n",
            "375/375 [==============================] - 7s 19ms/step - loss: 0.9325 - accuracy: 0.6320 - val_loss: 2.8540 - val_accuracy: 0.3595\n",
            "Epoch 5/10\n",
            "375/375 [==============================] - 7s 19ms/step - loss: 0.8571 - accuracy: 0.6656 - val_loss: 2.8775 - val_accuracy: 0.3712\n",
            "Epoch 6/10\n",
            "375/375 [==============================] - 7s 19ms/step - loss: 0.8045 - accuracy: 0.6884 - val_loss: 2.9940 - val_accuracy: 0.3766\n",
            "Epoch 7/10\n",
            "375/375 [==============================] - 9s 25ms/step - loss: 0.7648 - accuracy: 0.7056 - val_loss: 3.5778 - val_accuracy: 0.3504\n",
            "Epoch 8/10\n",
            "375/375 [==============================] - 7s 19ms/step - loss: 0.7199 - accuracy: 0.7268 - val_loss: 3.8686 - val_accuracy: 0.3369\n",
            "Epoch 9/10\n",
            "375/375 [==============================] - 9s 25ms/step - loss: 0.6485 - accuracy: 0.7554 - val_loss: 4.4370 - val_accuracy: 0.3187\n",
            "Epoch 10/10\n",
            "375/375 [==============================] - 7s 19ms/step - loss: 0.5057 - accuracy: 0.8103 - val_loss: 4.8730 - val_accuracy: 0.3207\n",
            "Epoch 1/10\n",
            "250/250 [==============================] - 13s 36ms/step - loss: 1.5145 - accuracy: 0.4303 - val_loss: 2.0337 - val_accuracy: 0.3182\n",
            "Epoch 2/10\n",
            "250/250 [==============================] - 7s 28ms/step - loss: 1.2403 - accuracy: 0.5180 - val_loss: 2.2861 - val_accuracy: 0.3591\n",
            "Epoch 3/10\n",
            "250/250 [==============================] - 8s 32ms/step - loss: 1.0978 - accuracy: 0.5750 - val_loss: 2.3285 - val_accuracy: 0.3602\n",
            "Epoch 4/10\n",
            "250/250 [==============================] - 8s 32ms/step - loss: 0.9630 - accuracy: 0.6212 - val_loss: 2.4657 - val_accuracy: 0.3769\n",
            "Epoch 5/10\n",
            "250/250 [==============================] - 8s 32ms/step - loss: 0.8686 - accuracy: 0.6634 - val_loss: 2.7157 - val_accuracy: 0.3745\n",
            "Epoch 6/10\n",
            "250/250 [==============================] - 8s 32ms/step - loss: 0.8053 - accuracy: 0.6906 - val_loss: 2.8603 - val_accuracy: 0.3654\n",
            "Epoch 7/10\n",
            "250/250 [==============================] - 8s 32ms/step - loss: 0.7650 - accuracy: 0.7033 - val_loss: 2.8335 - val_accuracy: 0.3727\n",
            "Epoch 8/10\n",
            "250/250 [==============================] - 7s 28ms/step - loss: 0.7334 - accuracy: 0.7188 - val_loss: 3.2487 - val_accuracy: 0.3479\n",
            "Epoch 9/10\n",
            "250/250 [==============================] - 7s 28ms/step - loss: 0.7027 - accuracy: 0.7328 - val_loss: 3.4429 - val_accuracy: 0.3485\n",
            "Epoch 10/10\n",
            "250/250 [==============================] - 8s 32ms/step - loss: 0.6586 - accuracy: 0.7515 - val_loss: 3.7433 - val_accuracy: 0.3323\n",
            "Epoch 1/10\n",
            "125/125 [==============================] - 11s 60ms/step - loss: 1.6052 - accuracy: 0.4052 - val_loss: 1.9014 - val_accuracy: 0.2922\n",
            "Epoch 2/10\n",
            "125/125 [==============================] - 7s 53ms/step - loss: 1.3070 - accuracy: 0.5161 - val_loss: 1.9502 - val_accuracy: 0.3509\n",
            "Epoch 3/10\n",
            "125/125 [==============================] - 6s 49ms/step - loss: 1.1970 - accuracy: 0.5462 - val_loss: 2.3001 - val_accuracy: 0.3808\n",
            "Epoch 4/10\n",
            "125/125 [==============================] - 6s 49ms/step - loss: 1.0626 - accuracy: 0.5869 - val_loss: 2.1855 - val_accuracy: 0.3707\n",
            "Epoch 5/10\n",
            "125/125 [==============================] - 7s 53ms/step - loss: 0.9336 - accuracy: 0.6340 - val_loss: 2.2995 - val_accuracy: 0.3987\n",
            "Epoch 6/10\n",
            "125/125 [==============================] - 6s 48ms/step - loss: 0.8452 - accuracy: 0.6721 - val_loss: 2.4494 - val_accuracy: 0.3991\n",
            "Epoch 7/10\n",
            "125/125 [==============================] - 7s 53ms/step - loss: 0.7863 - accuracy: 0.6991 - val_loss: 2.7259 - val_accuracy: 0.3824\n",
            "Epoch 8/10\n",
            "125/125 [==============================] - 6s 48ms/step - loss: 0.7469 - accuracy: 0.7140 - val_loss: 2.6926 - val_accuracy: 0.3777\n",
            "Epoch 9/10\n",
            "125/125 [==============================] - 6s 49ms/step - loss: 0.7177 - accuracy: 0.7254 - val_loss: 2.7757 - val_accuracy: 0.3791\n",
            "Epoch 10/10\n",
            "125/125 [==============================] - 6s 49ms/step - loss: 0.6858 - accuracy: 0.7401 - val_loss: 2.7480 - val_accuracy: 0.3890\n"
          ]
        }
      ]
    },
    {
      "cell_type": "code",
      "metadata": {
        "colab": {
          "base_uri": "https://localhost:8080/",
          "height": 461
        },
        "id": "cXrsX9-hWslX",
        "outputId": "28b65605-bc50-451b-8acf-47de744b6e29"
      },
      "source": [
        "# Plot results\n",
        "\n",
        "xplot = []\n",
        "yplot = []\n",
        "\n",
        "for i in range(0,len(splits)):\n",
        "  xplot.append(splits[i][0])\n",
        "  yplot.append(splits[i][1][9])\n",
        "  print(f\"Validation split fraction: {splits[i][0]}. Accuracy achieved:\", splits[i][1][9])\n",
        "\n",
        "plt.figure()\n",
        "plt.plot(xplot, yplot)\n",
        "plt.xlabel(\"Validation split fraction\")\n",
        "plt.ylabel(\"Accuracy\")"
      ],
      "execution_count": null,
      "outputs": [
        {
          "output_type": "stream",
          "name": "stdout",
          "text": [
            "Validation split fraction: 0.1. Accuracy achieved: 0.7418437600135803\n",
            "Validation split fraction: 0.2. Accuracy achieved: 0.5222031474113464\n",
            "Validation split fraction: 0.3. Accuracy achieved: 0.46811458468437195\n",
            "Validation split fraction: 0.4. Accuracy achieved: 0.42408594489097595\n",
            "Validation split fraction: 0.5. Accuracy achieved: 0.3708375096321106\n",
            "Validation split fraction: 0.6. Accuracy achieved: 0.38646355271339417\n",
            "Validation split fraction: 0.7. Accuracy achieved: 0.3206830322742462\n",
            "Validation split fraction: 0.8. Accuracy achieved: 0.3322838842868805\n",
            "Validation split fraction: 0.9. Accuracy achieved: 0.388966828584671\n"
          ]
        },
        {
          "output_type": "execute_result",
          "data": {
            "text/plain": [
              "Text(0, 0.5, 'Accuracy')"
            ]
          },
          "metadata": {},
          "execution_count": 11
        },
        {
          "output_type": "display_data",
          "data": {
            "image/png": "[encoded data removed]",
            "text/plain": [
              "<Figure size 432x288 with 1 Axes>"
            ]
          },
          "metadata": {
            "needs_background": "light"
          }
        }
      ]
    },
    {
      "cell_type": "code",
      "metadata": {
        "id": "Nbe-40CgksYc",
        "colab": {
          "base_uri": "https://localhost:8080/"
        },
        "outputId": "45a66da4-6704-49df-966e-7730f5dbea25"
      },
      "source": [
        "# 2. Try to find more optimal architectures\n",
        "# TBD, think we can leave that to the end, since its just experimenting a bit\n",
        "print(y_text_onehot[0])\n",
        "#check images: best found: Softmax - adam"
      ],
      "execution_count": null,
      "outputs": [
        {
          "output_type": "stream",
          "name": "stdout",
          "text": [
            "[[0. 0. 0. 0. 0. 0. 0. 0. 0. 0. 0. 0. 1.]\n",
            " [0. 0. 0. 0. 0. 0. 0. 0. 0. 0. 0. 0. 1.]\n",
            " [0. 0. 0. 0. 0. 0. 0. 0. 0. 0. 0. 0. 1.]\n",
            " [1. 0. 0. 0. 0. 0. 0. 0. 0. 0. 0. 0. 0.]]\n"
          ]
        }
      ]
    },
    {
      "cell_type": "markdown",
      "metadata": {
        "id": "MTUqbQrbaKfB"
      },
      "source": [
        "\n",
        "---\n",
        "---\n",
        "\n",
        "# 1.3 Image to text RNN Model\n",
        "\n",
        "Hint: There are two ways of building the encoder for such a model - again by using the regular LSTM cells or recurrect convolutional layers [ConvLSTM2D](https://keras.io/api/layers/recurrent_layers/conv_lstm2d/).\n",
        "\n",
        "The goal here is to use X_img as inputs and y_text as outputs."
      ]
    },
    {
      "cell_type": "code",
      "metadata": {
        "id": "YH-ARAH3PB6Q"
      },
      "source": [
        "# So for input Img we want this shape input (Ximg, len(Ximg), 7, 28, 28) for convolutional, but for LSTM just the pixels in a vector: (7, 784)\n",
        "X_img_flat = X_img.reshape(80000, 7, 784)"
      ],
      "execution_count": 6,
      "outputs": []
    },
    {
      "cell_type": "code",
      "metadata": {
        "id": "pxgO1YYvaEax",
        "colab": {
          "base_uri": "https://localhost:8080/"
        },
        "outputId": "6db37c22-553f-4f44-ed0e-85f1c9723307"
      },
      "source": [
        "\n",
        "# structure from previously\n",
        "\n",
        "# X_text, X_img, y_img, y_text\n",
        "\n",
        "lstm_img2text = tf.keras.Sequential()\n",
        "lstm_img2text.add(LSTM(256, input_shape=(7, 784), dropout=0.2))\n",
        "lstm_img2text.add(RepeatVector(max_answer_length))\n",
        "lstm_img2text.add(LSTM(128, return_sequences=True, dropout=0.2))\n",
        "lstm_img2text.add(TimeDistributed(Dense(len(unique_characters), activation='softmax')))\n",
        "\n",
        "lstm_img2text.compile(loss='categorical_crossentropy', optimizer='adam', metrics=['accuracy'])\n",
        "lstm_img2text.summary()"
      ],
      "execution_count": 9,
      "outputs": [
        {
          "output_type": "stream",
          "name": "stdout",
          "text": [
            "Model: \"sequential_1\"\n",
            "_________________________________________________________________\n",
            " Layer (type)                Output Shape              Param #   \n",
            "=================================================================\n",
            " lstm_2 (LSTM)               (None, 256)               1065984   \n",
            "                                                                 \n",
            " repeat_vector_1 (RepeatVect  (None, 4, 256)           0         \n",
            " or)                                                             \n",
            "                                                                 \n",
            " lstm_3 (LSTM)               (None, 4, 128)            197120    \n",
            "                                                                 \n",
            " time_distributed_1 (TimeDis  (None, 4, 13)            1677      \n",
            " tributed)                                                       \n",
            "                                                                 \n",
            "=================================================================\n",
            "Total params: 1,264,781\n",
            "Trainable params: 1,264,781\n",
            "Non-trainable params: 0\n",
            "_________________________________________________________________\n"
          ]
        }
      ]
    },
    {
      "cell_type": "code",
      "source": [
        "#Note that input here is X_img_FLAT\n",
        "history = lstm_img2text.fit(X_img_flat, y_text_onehot, batch_size=128, epochs=30, validation_split=0.2)\n"
      ],
      "metadata": {
        "colab": {
          "base_uri": "https://localhost:8080/"
        },
        "id": "2t67I9Wues2_",
        "outputId": "a6c18a6e-3a0b-4d20-cfcf-732414ef1e05"
      },
      "execution_count": 10,
      "outputs": [
        {
          "output_type": "stream",
          "name": "stdout",
          "text": [
            "Epoch 1/30\n",
            "500/500 [==============================] - 15s 23ms/step - loss: 1.4289 - accuracy: 0.4465 - val_loss: 1.4784 - val_accuracy: 0.3893\n",
            "Epoch 2/30\n",
            "500/500 [==============================] - 10s 20ms/step - loss: 1.2554 - accuracy: 0.5060 - val_loss: 1.4672 - val_accuracy: 0.4519\n",
            "Epoch 3/30\n",
            "500/500 [==============================] - 10s 20ms/step - loss: 1.1843 - accuracy: 0.5368 - val_loss: 1.6753 - val_accuracy: 0.4214\n",
            "Epoch 4/30\n",
            "500/500 [==============================] - 10s 21ms/step - loss: 1.1122 - accuracy: 0.5641 - val_loss: 1.6952 - val_accuracy: 0.4510\n",
            "Epoch 5/30\n",
            "500/500 [==============================] - 11s 22ms/step - loss: 1.0620 - accuracy: 0.5816 - val_loss: 1.7691 - val_accuracy: 0.4513\n",
            "Epoch 6/30\n",
            "500/500 [==============================] - 11s 22ms/step - loss: 1.0269 - accuracy: 0.5968 - val_loss: 2.0914 - val_accuracy: 0.4303\n",
            "Epoch 7/30\n",
            "500/500 [==============================] - 11s 21ms/step - loss: 1.0017 - accuracy: 0.6067 - val_loss: 2.0602 - val_accuracy: 0.4354\n",
            "Epoch 8/30\n",
            "500/500 [==============================] - 11s 21ms/step - loss: 0.9770 - accuracy: 0.6173 - val_loss: 2.1403 - val_accuracy: 0.4397\n",
            "Epoch 9/30\n",
            "500/500 [==============================] - 10s 20ms/step - loss: 0.9558 - accuracy: 0.6251 - val_loss: 2.1345 - val_accuracy: 0.4399\n",
            "Epoch 10/30\n",
            "500/500 [==============================] - 10s 20ms/step - loss: 0.9379 - accuracy: 0.6333 - val_loss: 2.3358 - val_accuracy: 0.4339\n",
            "Epoch 11/30\n",
            "500/500 [==============================] - 11s 21ms/step - loss: 0.9201 - accuracy: 0.6411 - val_loss: 2.2206 - val_accuracy: 0.4486\n",
            "Epoch 12/30\n",
            "500/500 [==============================] - 11s 21ms/step - loss: 0.9051 - accuracy: 0.6470 - val_loss: 2.3904 - val_accuracy: 0.4421\n",
            "Epoch 13/30\n",
            "500/500 [==============================] - 11s 21ms/step - loss: 0.8867 - accuracy: 0.6547 - val_loss: 2.4585 - val_accuracy: 0.4442\n",
            "Epoch 14/30\n",
            "500/500 [==============================] - 11s 21ms/step - loss: 0.8723 - accuracy: 0.6606 - val_loss: 2.6087 - val_accuracy: 0.4371\n",
            "Epoch 15/30\n",
            "500/500 [==============================] - 11s 21ms/step - loss: 0.8518 - accuracy: 0.6701 - val_loss: 2.6268 - val_accuracy: 0.4432\n",
            "Epoch 16/30\n",
            "500/500 [==============================] - 11s 21ms/step - loss: 0.8375 - accuracy: 0.6755 - val_loss: 2.7822 - val_accuracy: 0.4394\n",
            "Epoch 17/30\n",
            "500/500 [==============================] - 10s 20ms/step - loss: 0.8220 - accuracy: 0.6826 - val_loss: 2.8061 - val_accuracy: 0.4427\n",
            "Epoch 18/30\n",
            "500/500 [==============================] - 11s 22ms/step - loss: 0.8037 - accuracy: 0.6891 - val_loss: 2.7872 - val_accuracy: 0.4483\n",
            "Epoch 19/30\n",
            "500/500 [==============================] - 11s 21ms/step - loss: 0.7937 - accuracy: 0.6942 - val_loss: 2.8914 - val_accuracy: 0.4506\n",
            "Epoch 20/30\n",
            "500/500 [==============================] - 11s 22ms/step - loss: 0.7764 - accuracy: 0.7007 - val_loss: 2.8522 - val_accuracy: 0.4557\n",
            "Epoch 21/30\n",
            "500/500 [==============================] - 10s 20ms/step - loss: 0.7605 - accuracy: 0.7074 - val_loss: 2.9738 - val_accuracy: 0.4539\n",
            "Epoch 22/30\n",
            "500/500 [==============================] - 11s 21ms/step - loss: 0.7503 - accuracy: 0.7112 - val_loss: 2.9469 - val_accuracy: 0.4579\n",
            "Epoch 23/30\n",
            "500/500 [==============================] - 10s 20ms/step - loss: 0.7323 - accuracy: 0.7188 - val_loss: 3.0941 - val_accuracy: 0.4541\n",
            "Epoch 24/30\n",
            "500/500 [==============================] - 11s 21ms/step - loss: 0.7177 - accuracy: 0.7233 - val_loss: 3.2434 - val_accuracy: 0.4516\n",
            "Epoch 25/30\n",
            "500/500 [==============================] - 10s 20ms/step - loss: 0.7032 - accuracy: 0.7289 - val_loss: 3.2576 - val_accuracy: 0.4570\n",
            "Epoch 26/30\n",
            "500/500 [==============================] - 10s 21ms/step - loss: 0.6860 - accuracy: 0.7359 - val_loss: 3.2240 - val_accuracy: 0.4611\n",
            "Epoch 27/30\n",
            "500/500 [==============================] - 10s 20ms/step - loss: 0.6651 - accuracy: 0.7444 - val_loss: 3.1985 - val_accuracy: 0.4726\n",
            "Epoch 28/30\n",
            "500/500 [==============================] - 10s 20ms/step - loss: 0.6383 - accuracy: 0.7543 - val_loss: 3.2209 - val_accuracy: 0.4801\n",
            "Epoch 29/30\n",
            "500/500 [==============================] - 10s 21ms/step - loss: 0.6106 - accuracy: 0.7654 - val_loss: 3.2096 - val_accuracy: 0.4927\n",
            "Epoch 30/30\n",
            "500/500 [==============================] - 10s 20ms/step - loss: 0.5796 - accuracy: 0.7760 - val_loss: 3.3276 - val_accuracy: 0.4942\n"
          ]
        }
      ]
    },
    {
      "cell_type": "markdown",
      "metadata": {
        "id": "GnGyo_DIlymz"
      },
      "source": [
        "---\n",
        "---\n",
        "\n",
        "# 1.4 Text to image RNN Model\n",
        "\n",
        "Hint: to make this model work well you will need deconvolutional layers in your decoder (look up ***Conv2DTranspose*** layer). To connect this from a flat latent vector you will also need an operation which is opposite to a ***Flatten*** layer that you usually use in convolutional architectures - for this look up the ***Reshape*** layer.\n",
        "\n",
        "The goal here is to use X_text as inputs and y_img as outputs."
      ]
    },
    {
      "cell_type": "code",
      "source": [
        "X_text_onehot_flat = X_text_onehot.reshape(80000,91)\n",
        "y_img_4in1 = y_img.reshape(80000, 112, 28)"
      ],
      "metadata": {
        "id": "cVwYr1ntuBRm"
      },
      "execution_count": null,
      "outputs": []
    },
    {
      "cell_type": "code",
      "source": [
        "tf.keras.backend.clear_session()\n",
        "\n",
        "text2img = tf.keras.Sequential()\n",
        "text2img.add(Dense(784, input_shape = (91,), activation='relu'))\n",
        "#text2img.add(Dropout(0.3))\n",
        "text2img.add(Dense(3136, activation='relu'))\n",
        "text2img.add(Dropout(0.3))\n",
        "text2img.add(Reshape((112, 28, 1)))\n",
        "text2img.add(Conv2DTranspose(filters = 64, kernel_size = 3, padding=\"same\", activation=\"relu\"))\n",
        "text2img.add(Conv2D(filters = 32, kernel_size = 3, padding=\"same\", activation=\"relu\"))\n",
        "text2img.add(Conv2D(filters = 1, kernel_size = 3, padding=\"same\", activation=\"tanh\"))\n",
        "\n",
        "text2img.compile(loss='MSE', optimizer='adam') #try relu and tanh activation \n",
        "text2img.summary()"
      ],
      "metadata": {
        "colab": {
          "base_uri": "https://localhost:8080/"
        },
        "id": "HWpAPnuvt7Co",
        "outputId": "57645bc9-eb58-4cc8-ead9-d060cd9bc99d"
      },
      "execution_count": null,
      "outputs": [
        {
          "output_type": "stream",
          "name": "stdout",
          "text": [
            "Model: \"sequential\"\n",
            "_________________________________________________________________\n",
            " Layer (type)                Output Shape              Param #   \n",
            "=================================================================\n",
            " dense (Dense)               (None, 784)               72128     \n",
            "                                                                 \n",
            " dense_1 (Dense)             (None, 3136)              2461760   \n",
            "                                                                 \n",
            " dropout (Dropout)           (None, 3136)              0         \n",
            "                                                                 \n",
            " reshape (Reshape)           (None, 112, 28, 1)        0         \n",
            "                                                                 \n",
            " conv2d_transpose (Conv2DTra  (None, 112, 28, 64)      640       \n",
            " nspose)                                                         \n",
            "                                                                 \n",
            " conv2d (Conv2D)             (None, 112, 28, 32)       18464     \n",
            "                                                                 \n",
            " conv2d_1 (Conv2D)           (None, 112, 28, 1)        289       \n",
            "                                                                 \n",
            "=================================================================\n",
            "Total params: 2,553,281\n",
            "Trainable params: 2,553,281\n",
            "Non-trainable params: 0\n",
            "_________________________________________________________________\n"
          ]
        }
      ]
    },
    {
      "cell_type": "code",
      "source": [
        "history_decoder = text2img.fit(X_text_onehot_flat, y_img_4in1, batch_size=256, epochs=15, validation_split=0.3)"
      ],
      "metadata": {
        "colab": {
          "base_uri": "https://localhost:8080/"
        },
        "id": "Qsm2MgRgwlzs",
        "outputId": "a3caecc6-b3d8-4604-ec35-541378890c2b"
      },
      "execution_count": null,
      "outputs": [
        {
          "output_type": "stream",
          "name": "stdout",
          "text": [
            "Epoch 1/15\n",
            "94/94 [==============================] - 29s 279ms/step - loss: 0.0461 - val_loss: 0.0510\n",
            "Epoch 2/15\n",
            "94/94 [==============================] - 22s 231ms/step - loss: 0.0413 - val_loss: 0.0516\n",
            "Epoch 3/15\n",
            "94/94 [==============================] - 22s 231ms/step - loss: 0.0396 - val_loss: 0.0504\n",
            "Epoch 4/15\n",
            "94/94 [==============================] - 22s 231ms/step - loss: 0.0384 - val_loss: 0.0500\n",
            "Epoch 5/15\n",
            "94/94 [==============================] - 23s 243ms/step - loss: 0.0376 - val_loss: 0.0497\n",
            "Epoch 6/15\n",
            "94/94 [==============================] - 22s 230ms/step - loss: 0.0368 - val_loss: 0.0494\n",
            "Epoch 7/15\n",
            "94/94 [==============================] - 22s 231ms/step - loss: 0.0362 - val_loss: 0.0493\n",
            "Epoch 8/15\n",
            "94/94 [==============================] - 22s 231ms/step - loss: 0.0357 - val_loss: 0.0503\n",
            "Epoch 9/15\n",
            "94/94 [==============================] - 22s 231ms/step - loss: 0.0352 - val_loss: 0.0502\n",
            "Epoch 10/15\n",
            "94/94 [==============================] - 22s 231ms/step - loss: 0.0349 - val_loss: 0.0508\n",
            "Epoch 11/15\n",
            "94/94 [==============================] - 22s 231ms/step - loss: 0.0346 - val_loss: 0.0509\n",
            "Epoch 12/15\n",
            "94/94 [==============================] - 22s 231ms/step - loss: 0.0343 - val_loss: 0.0518\n",
            "Epoch 13/15\n",
            "94/94 [==============================] - 23s 244ms/step - loss: 0.0341 - val_loss: 0.0515\n",
            "Epoch 14/15\n",
            "94/94 [==============================] - 22s 231ms/step - loss: 0.0339 - val_loss: 0.0519\n",
            "Epoch 15/15\n",
            "94/94 [==============================] - 22s 231ms/step - loss: 0.0337 - val_loss: 0.0521\n"
          ]
        }
      ]
    },
    {
      "cell_type": "markdown",
      "source": [
        "So when training the network in 1.4, the MSE (loss) decreases to about 0.03 on training data, however the validation loss does not decrease at all.\n",
        "\n"
      ],
      "metadata": {
        "id": "BoERP81m6W_y"
      }
    },
    {
      "cell_type": "code",
      "source": [
        "# Generate random sum for prediction and plot\n",
        "a = str(random.randint(0,200))\n",
        "while len(a) < 3:\n",
        "    a = ' ' + a\n",
        "\n",
        "b = random.choice(['-','+'])\n",
        "\n",
        "c = str(random.randint(0,200))\n",
        "while len(c) < 3:\n",
        "    c = ' ' + c\n",
        "\n",
        "inp = a+b+c\n",
        "print(inp)\n",
        "onehot_in = encode_labels(inp)\n",
        "\n",
        "#Prediction\n",
        "output_prediction = text2img.predict(onehot_in.reshape((1,91)))\n",
        "print(output_prediction.shape)\n",
        "\n",
        "# Plot\n",
        "plt.figure(figsize=(5,5))\n",
        "plt.imshow(output_prediction[0,:,:,0], vmin=0, vmax=1)\n",
        "plt.tick_params(axis=\"both\", which=\"both\", bottom=False, top=False, left=False, right=False, labelbottom=False, labelleft=False)\n",
        "plt.title(f'Prediction {inp}', fontsize=20)\n",
        "plt.tight_layout()\n"
      ],
      "metadata": {
        "colab": {
          "base_uri": "https://localhost:8080/",
          "height": 405
        },
        "id": "oGDo3vTFJ0ku",
        "outputId": "f5d8bfbe-3afb-4427-d03f-fd1da45c1ec4"
      },
      "execution_count": null,
      "outputs": [
        {
          "output_type": "stream",
          "name": "stdout",
          "text": [
            "161-134\n",
            "(1, 112, 28, 1)\n"
          ]
        },
        {
          "output_type": "display_data",
          "data": {
            "image/png": "[encoded data removed]",
            "text/plain": [
              "<Figure size 360x360 with 1 Axes>"
            ]
          },
          "metadata": {}
        }
      ]
    }
  ]
}
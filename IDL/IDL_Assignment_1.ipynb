{
  "nbformat": 4,
  "nbformat_minor": 0,
  "metadata": {
    "colab": {
      "name": "IDL - Assignment 1.ipynb",
      "provenance": [],
      "collapsed_sections": []
    },
    "kernelspec": {
      "display_name": "Python 3",
      "name": "python3"
    },
    "language_info": {
      "name": "python"
    }
  },
  "cells": [
    {
      "cell_type": "code",
      "metadata": {
        "id": "-jcF6v4QSg6Z"
      },
      "source": [
        "import numpy as np\n",
        "import matplotlib.pyplot as plt\n",
        "from tabulate import tabulate\n",
        "from sklearn import decomposition, manifold, metrics, neighbors\n",
        "import math\n",
        "import sklearn"
      ],
      "execution_count": null,
      "outputs": []
    },
    {
      "cell_type": "code",
      "metadata": {
        "id": "zOmGBe7JSszg"
      },
      "source": [
        "# Import data\n",
        "train_in = np.loadtxt(\"train_in.csv\", delimiter=\",\", dtype=np.float64)\n",
        "test_in = np.loadtxt(\"test_in.csv\", delimiter=\",\", dtype=np.float64)\n",
        "train_out = np.loadtxt(\"train_out.csv\", delimiter=\",\", dtype=np.int32)\n",
        "test_out = np.loadtxt(\"test_out.csv\", delimiter=\",\", dtype=np.int32)"
      ],
      "execution_count": null,
      "outputs": []
    },
    {
      "cell_type": "code",
      "metadata": {
        "id": "XcAaFDEGS8bl"
      },
      "source": [
        "# Task 1"
      ],
      "execution_count": null,
      "outputs": []
    },
    {
      "cell_type": "code",
      "metadata": {
        "id": "Z1A8dAeRS-Rr"
      },
      "source": [
        "# Example of one image\n",
        "print(np.shape(train_in))\n",
        "print(np.shape(train_out))\n",
        "print(train_out[0])\n",
        "print(np.shape(np.reshape(train_in[0],(16,16))))\n",
        "plt.imshow(np.reshape(train_in[0],(16,16)))"
      ],
      "execution_count": null,
      "outputs": []
    },
    {
      "cell_type": "code",
      "metadata": {
        "id": "ctOH-ILSTNpf"
      },
      "source": [
        "# Group input by outputs\n",
        "# For every input point-cloud\n",
        "#     Calculate mean for every dimension\n",
        "def mean_cloud_vector_calc(digit_array):\n",
        "  mean_vector = 0\n",
        "  for ele in digit_array:\n",
        "    for index in train_in[ele]:\n",
        "      mean_vector += index\n",
        "    mean_cloud_vector = mean_vector / len(digit_array[0])\n",
        "    return mean_cloud_vector\n",
        "\n",
        "# For train\n",
        "## Given the outputfile digits, find index (row number) that corresponds to index on input file (vector)\n",
        "train_all_0s = np.where(train_out == 0)\n",
        "train_all_1s = np.where(train_out == 1)\n",
        "train_all_2s = np.where(train_out == 2)\n",
        "train_all_3s = np.where(train_out == 3)\n",
        "train_all_4s = np.where(train_out == 4)\n",
        "train_all_5s = np.where(train_out == 5)\n",
        "train_all_6s = np.where(train_out == 6)\n",
        "train_all_7s = np.where(train_out == 7)\n",
        "train_all_8s = np.where(train_out == 8)\n",
        "train_all_9s = np.where(train_out == 9)\n",
        "\n",
        "#Calculate the mean vector cloud for a specific digit, to later use for classification\n",
        "train_cloud_0 = mean_cloud_vector_calc(train_all_0s)\n",
        "train_cloud_1 = mean_cloud_vector_calc(train_all_1s)\n",
        "train_cloud_2 = mean_cloud_vector_calc(train_all_2s)\n",
        "train_cloud_3 = mean_cloud_vector_calc(train_all_3s)\n",
        "train_cloud_4 = mean_cloud_vector_calc(train_all_4s)\n",
        "train_cloud_5 = mean_cloud_vector_calc(train_all_5s)\n",
        "train_cloud_6 = mean_cloud_vector_calc(train_all_6s)\n",
        "train_cloud_7 = mean_cloud_vector_calc(train_all_7s)\n",
        "train_cloud_8 = mean_cloud_vector_calc(train_all_8s)\n",
        "train_cloud_9 = mean_cloud_vector_calc(train_all_9s)\n",
        "\n",
        "#Make easy accesable item for getting any mean_vector\n",
        "train_all_mean_vectors_tuple = (train_cloud_0,\n",
        "                                   train_cloud_1,\n",
        "                                   train_cloud_2,\n",
        "                                   train_cloud_3,\n",
        "                                   train_cloud_4,\n",
        "                                   train_cloud_5,\n",
        "                                   train_cloud_6,\n",
        "                                   train_cloud_7,\n",
        "                                   train_cloud_8,\n",
        "                                   train_cloud_9)\n",
        "all_mean_vectors = np.vstack(train_all_mean_vectors_tuple)\n",
        "print(all_mean_vectors)\n"
      ],
      "execution_count": null,
      "outputs": []
    },
    {
      "cell_type": "code",
      "metadata": {
        "id": "xid6mZlWaBtM"
      },
      "source": [
        "digits = [0, 1, 2, 3, 4, 5, 6, 7, 8, 9]\n",
        "\n",
        "array_dist = []\n",
        "\n",
        "# Distance calculation - of all digits against (itself and) all others\n",
        "for digit in all_mean_vectors:\n",
        "  array_digit = []\n",
        "  for other_digit in all_mean_vectors:\n",
        "    array_digit.append(np.sqrt(sum((digit - other_digit)**2)))\n",
        "  array_dist.append(array_digit)\n",
        "\n",
        "# Show distances between digits in a nice table\n",
        "table = [[\"Digits\", 0, 1, 2, 3, 4, 5, 6, 7, 8, 9]]\n",
        "for digit in digits:\n",
        "  line = [digit]\n",
        "  line.extend(array_dist[digit])\n",
        "  table.append(line)\n",
        "print(tabulate(table))"
      ],
      "execution_count": null,
      "outputs": []
    },
    {
      "cell_type": "markdown",
      "metadata": {
        "id": "UKPH7yBsaIt_"
      },
      "source": [
        "Lowest similarity score is 5.42 between digits 9 and 7, so that would be pair where we would expect most false positives / most difficulty separating. Other digits with small distances are: 3 - 5, 5 - 6, 4 - 9, and 8 - 9."
      ]
    },
    {
      "cell_type": "code",
      "metadata": {
        "id": "hZyH5W50joDu"
      },
      "source": [
        "# Task 1.2\n",
        "\n",
        "# Set up various algorithms:\n",
        "\n",
        "pca = sklearn.decomposition.PCA(n_components=2)\n",
        "lle = sklearn.manifold.LocallyLinearEmbedding(n_neighbors=80, n_components=2)\n",
        "tsne = sklearn.manifold.TSNE(n_components=2, init=\"pca\", random_state=0)\n",
        "\n",
        "# Give colour identifier for each digit\n",
        "\n",
        "plt.figure(figsize=(2,1))\n",
        "colours = ['red', 'orange', 'yellow', 'green', 'cyan', 'blue', 'purple', 'pink', 'black', 'grey']\n",
        "for digit in digits:\n",
        "  plt.scatter(digit,0,c=colours[digit])\n",
        "plt.show()\n",
        "\n",
        "# Test PCA\n",
        "\n",
        "pca_train = pca.fit_transform(train_in)\n",
        "\n",
        "plt.figure(figsize=(5,5))\n",
        "for digit in digits:\n",
        "    plt.scatter(pca_train[train_out==digit][:,0], pca_train[train_out==digit][:,1], s=5, label=str(digit), c=colours[digit])\n",
        "plt.legend(title=\"Digit\" ,fancybox=True, fontsize='large')\n",
        "plt.title(\"PCA\")\n",
        "plt.show()\n",
        "plt.close()\n",
        "\n",
        "# Test LLE\n",
        "\n",
        "lle_train = lle.fit_transform(train_in)\n",
        "\n",
        "plt.figure(figsize=(5,5))\n",
        "for digit in digits:\n",
        "    plt.scatter(lle_train[train_out==digit][:,0], lle_train[train_out==digit][:,1], s=5, label=str(digit), c=colours[digit])\n",
        "plt.legend(title=\"Digit\" ,fancybox=True, fontsize='large')\n",
        "plt.title(\"LLE\")\n",
        "plt.show()\n",
        "plt.close()\n",
        "\n",
        "# Test TSNE\n",
        "\n",
        "tsne_train = tsne.fit_transform(train_in)\n",
        "\n",
        "plt.figure(figsize=(5,5))\n",
        "for digit in digits:\n",
        "    plt.scatter(tsne_train[train_out==digit][:,0], tsne_train[train_out==digit][:,1], s=5, label=str(digit), c=colours[digit])\n",
        "plt.legend(title=\"Digit\" ,fancybox=True, fontsize='large')\n",
        "plt.title(\"t-SNE\")\n",
        "plt.show()\n",
        "plt.close()"
      ],
      "execution_count": null,
      "outputs": []
    },
    {
      "cell_type": "markdown",
      "metadata": {
        "id": "8q4va8bmA9aa"
      },
      "source": [
        "The expectation was that 7 and 9 would be hardest to differentiate, in additino to 3 - 5, 5 - 6, 4 - 9, and 8 - 9. From the first plot PCA, it seems the digits mentioned earlier are not the only digits with a strong overlap, but almost all digits have overlap (except for 1), although it seems possible to distuingish certain digits from others, i.e. 0-9 because of distance between them.\n",
        "On the LLE plot however, it seems really only digit '1' differs enough from the other digits to be separated from the main cloud.\n",
        "The third plot, t-SNE, shows a great promise in the sense that almost all digits are clustered together really well with some empty space inbetween different digits, but here too are a few outliers."
      ]
    },
    {
      "cell_type": "code",
      "metadata": {
        "colab": {
          "base_uri": "https://localhost:8080/"
        },
        "id": "c16C4ERpzNQj",
        "outputId": "56af7ea8-a655-4b20-f172-e71cb86c88e1"
      },
      "source": [
        "# Task 1.3\n",
        "\n",
        "def distance_classifier(input_data, mean_vector_data, output_data):\n",
        "    row_count = sum(1 for row in input_data)\n",
        "    correct_predictions = 0\n",
        "    for row in range(0,row_count):\n",
        "        #We want to reset shortest_distance to high value every new row/digit input\n",
        "        shortest_distance = 100\n",
        "        #Compare every input in the data to mean_vectors, calculate distance and find shortest\n",
        "        for mean_vector_digit in mean_vector_data:\n",
        "            distance = np.sqrt(sum((input_data[row] - mean_vector_digit)**2))\n",
        "            #When distance turns out shorter than a previous one, replace and remember which mean_vector it was\n",
        "            if distance < shortest_distance:\n",
        "                shortest_distance = distance\n",
        "                remember = mean_vector_digit\n",
        "    ### Ok, now I just need a way to retrieve what digit it was using 'remember' variable\n",
        "        predicted_digit = 0\n",
        "        #Cant compare arrays so make string first\n",
        "        remember_string = np.array2string(remember, precision=2, separator=',', suppress_small=True)\n",
        "        for i in range(0,10):\n",
        "        #Check for the 'remember' mean_vector string that calculated the shortest distance, what the index is in the all_vector array,\n",
        "        # which is in numerical order, so is the predicted digit. - cycling through mean vectors and updating predicted digit value\n",
        "            mean_vector_string = np.array2string(mean_vector_data[i], precision=2, separator=',', suppress_small=True)\n",
        "            if remember_string == mean_vector_string:\n",
        "                break\n",
        "            else:\n",
        "                predicted_digit += 1\n",
        "        # Checking if predicted_digit corresponds to right digit in output data, and count corrects\n",
        "        if test_out[row] == predicted_digit:\n",
        "            correct_predictions += 1\n",
        "    print(correct_predictions / row_count)\n",
        "\n",
        "### Distance classifier for training data\n",
        "\n",
        "def distance_classifier_train(input_data, mean_vector_data, output_data):\n",
        "    row_count = sum(1 for row in input_data)\n",
        "    correct_predictions = 0\n",
        "    for row in range(0,row_count):\n",
        "        #We want to reset shortest_distance to high value every new row/digit input\n",
        "        shortest_distance = 100\n",
        "        #Compare every input in the data to mean_vectors, calculate distance and find shortest\n",
        "        for mean_vector_digit in mean_vector_data:\n",
        "            distance = np.sqrt(sum((input_data[row] - mean_vector_digit)**2))\n",
        "            #When distance turns out shorter than a previous one, replace and remember which mean_vector it was\n",
        "            if distance < shortest_distance:\n",
        "                shortest_distance = distance\n",
        "                remember = mean_vector_digit\n",
        "    ### Ok, now I just need a way to retrieve what digit it was using 'remember' variable\n",
        "        predicted_digit = 0\n",
        "        #Cant compare arrays so make string first\n",
        "        remember_string = np.array2string(remember, precision=2, separator=',', suppress_small=True)\n",
        "        for i in range(0,10):\n",
        "        #Check for the 'remember' mean_vector string that calculated the shortest distance, what the index is in the all_vector array,\n",
        "        # which is in numerical order, so is the predicted digit. - cycling through mean vectors and updating predicted digit value\n",
        "            mean_vector_string = np.array2string(mean_vector_data[i], precision=2, separator=',', suppress_small=True)\n",
        "            if remember_string == mean_vector_string:\n",
        "                break\n",
        "            else:\n",
        "                predicted_digit += 1\n",
        "        # Checking if predicted_digit corresponds to right digit in output data, and count corrects\n",
        "        if train_out[row] == predicted_digit:\n",
        "            correct_predictions += 1\n",
        "    print(correct_predictions / row_count)\n",
        "\n",
        "distance_classifier(test_in, all_mean_vectors, test_out)\n",
        "distance_classifier_train(train_in, all_mean_vectors, train_out)\n",
        "# Accuracy of 0.804"
      ],
      "execution_count": null,
      "outputs": [
        {
          "name": "stdout",
          "output_type": "stream",
          "text": [
            "0.804\n",
            "0.8635032220269478\n"
          ]
        }
      ]
    },
    {
      "cell_type": "code",
      "metadata": {
        "id": "4J7q9KTkZSPo"
      },
      "source": [
        "# Task 1.4\n",
        "\n",
        "from sklearn.metrics import confusion_matrix,f1_score,accuracy_score\n",
        "from sklearn.neighbors import KNeighborsClassifier\n",
        "\n",
        "\n",
        "#Handrule, amount of neighbors should be sqrt(data_points) -> math.sqrt(len(y_test)) gives 31\n",
        "classifier = KNeighborsClassifier(n_neighbors = 31, p=2, metric='euclidean')\n",
        "classifier.fit(train_in, train_out)\n",
        "\n",
        "y_pred = classifier.predict(train_in)\n",
        "\n",
        "cm = confusion_matrix(train_out, y_pred)\n",
        "\n",
        "print(cm)\n",
        "\n",
        "print(accuracy_score(train_out, y_pred))"
      ],
      "execution_count": null,
      "outputs": []
    },
    {
      "cell_type": "markdown",
      "metadata": {
        "id": "wXxmd9REwR7R"
      },
      "source": [
        "Accuracy is 85.1%. This is already 5% percent better than the simplest distance based classifier.\n",
        "\n",
        "predicted \\ actual\n",
        "The confusion-matrix shows most false positives (>8) for:\n",
        "predicted 2 - actual 0,\n",
        "predicted 6 - actual 0,\n",
        "predicted 4 - actual 1,\n",
        "predicted 5 - actual 3\n",
        "predicted 4 - actual 9\n"
      ]
    },
    {
      "cell_type": "code",
      "metadata": {
        "id": "ZGqSA4LFYEK9"
      },
      "source": [
        "# Task 2\n",
        "# Initialise the perceptron (by creating a matrix of weights of 10x256+1 (specified later))\n",
        "\n",
        "def perceptron_init(input_dimensions, output_dimensions):\n",
        "  init = np.random.rand(output_dimensions, input_dimensions+1)\n",
        "  return init\n",
        "\n",
        "# Make the perceptron learn/update (lecture 2; slide 10)\n",
        "\n",
        "def perceptron_learn(perceptron, input_data, output_class):\n",
        "  output = perceptron.dot(np.append(np.array([1]), input_data))\n",
        "  output_value = output[output_class]\n",
        "  for i in np.where(output > output_value)[0]:\n",
        "    perceptron[i,:] -= np.append(np.array([1]), input_data) # Here we weaken all of the wrong weights\n",
        "  perceptron[output_class, :] += np.append(np.array([1]), input_data) # Here we strenghten the weights for the correct output\n",
        "  return perceptron\n",
        "\n",
        "# Train the perceptron\n",
        "\n",
        "def perceptron_train(perceptron, input_data, output_data, iterations):\n",
        "  iter = 0\n",
        "  matrix = np.ones(len(output_data))\n",
        "  while iter < iterations: # We run over the given number of update steps\n",
        "    matrix = np.zeros_like(matrix)\n",
        "    for i in range(len(output_data)): \n",
        "      matrix[i] = int(np.argmax(perceptron.dot(np.append(np.array([1]), input_data[i]))) != output_data[i])\n",
        "    for i in np.where(matrix == 1)[0]: # In case of a wrong case we run the learning/update function\n",
        "      perceptron = perceptron_learn(perceptron, input_data[i], output_data[i])\n",
        "    iter += 1\n",
        "  return perceptron\n",
        "\n",
        "# Accuracy function just to test the accuracy of the perceptron for a given dataset\n",
        "\n",
        "def perceptron_accuracy(perceptron, input_data, output_data):\n",
        "  check = np.zeros(len(output_data))\n",
        "  for i in range(len(output_data)):\n",
        "    check[i] = int(np.argmax(perceptron.dot(np.append(np.array([1]), input_data[i]))) == output_data[i])#\n",
        "  return np.sum(check) / len(output_data)"
      ],
      "execution_count": null,
      "outputs": []
    },
    {
      "cell_type": "code",
      "metadata": {
        "id": "geDNpOY3oX0E"
      },
      "source": [
        "# Testing the perceptron for multiple iteration numbers\n",
        "\n",
        "import time\n",
        "\n",
        "iteration_numbers = [5, 10, 20, 30, 40, 50, 60, 70, 80, 90, 100, 250, 500]\n",
        "\n",
        "train_acc_arr = []\n",
        "test_acc_arr = []\n",
        "\n",
        "train_acc = []\n",
        "test_acc = []\n",
        "\n",
        "for iteration_num in iteration_numbers:\n",
        "  for i in range(10):\n",
        "    model = perceptron_init(256,10)\n",
        "    model_trained = perceptron_train(model, train_in, train_out, iteration_num)\n",
        "\n",
        "    # Test it on training set:\n",
        "    train_accuracy = perceptron_accuracy(model, train_in, train_out)\n",
        "    train_acc.append(train_accuracy)\n",
        "\n",
        "    # Test it on test set:\n",
        "    test_accuracy = perceptron_accuracy(model, test_in, test_out)\n",
        "    test_acc.append(test_accuracy)\n",
        "  train_acc_arr.append(np.mean(train_acc))\n",
        "  test_acc_arr.append(np.mean(test_acc))\n",
        "  print(\"Iteration number done: \" + str(iteration_num))"
      ],
      "execution_count": null,
      "outputs": []
    },
    {
      "cell_type": "code",
      "metadata": {
        "id": "ayF-b1tGBpa5"
      },
      "source": [
        "plt.figure(figsize=(7,5))\n",
        "plt.plot(iteration_numbers, train_acc_arr, label=\"Training\")\n",
        "plt.plot(iteration_numbers, test_acc_arr, label=\"Test\")\n",
        "plt.legend(title=\"Test set\" ,fancybox=True, fontsize='large')\n",
        "plt.title(\"Accuracy vs total iteration number\")\n",
        "plt.xlabel(\"Total iterations\")\n",
        "plt.ylabel(\"Accuracy\")\n",
        "plt.show()"
      ],
      "execution_count": null,
      "outputs": []
    },
    {
      "cell_type": "code",
      "metadata": {
        "id": "si-lRuxw_tqs"
      },
      "source": [
        "for i in range(10):\n",
        "  model = perceptron_init(256,10)\n",
        "  model_trained = perceptron_train(model, train_in, train_out, 100)\n",
        "    # Test it on training set:\n",
        "    #t0 = time.time()\n",
        "  print(\"Train set accuracy:\")\n",
        "  train_accuracy = perceptron_accuracy(model, train_in, train_out)\n",
        "  print(train_accuracy)\n",
        "    #t1 = time.time()\n",
        "  train_acc.append(train_accuracy)\n",
        "    #print(\"Time: \" + str(t1-t0))\n",
        "\n",
        "    # Test it on test set:\n",
        "    #t0 = time.time()\n",
        "  print(\"Test set accuracy:\")\n",
        "  test_accuracy = perceptron_accuracy(model, test_in, test_out)\n",
        "  print(test_accuracy)\n",
        "    #t1 = time.time()\n",
        "  test_acc.append(test_accuracy)\n",
        "    #print(\"Time: \" + str(t1-t0))"
      ],
      "execution_count": null,
      "outputs": []
    },
    {
      "cell_type": "code",
      "metadata": {
        "colab": {
          "base_uri": "https://localhost:8080/"
        },
        "id": "KjV_r_cWk0ca",
        "outputId": "4c4adbaa-41fa-40ff-875c-9525bd92c01f"
      },
      "source": [
        "print(np.mean(train_acc))\n",
        "print(np.mean(test_acc))"
      ],
      "execution_count": null,
      "outputs": [
        {
          "name": "stdout",
          "output_type": "stream",
          "text": [
            "0.9520754874884927\n",
            "0.8461571428571428\n"
          ]
        }
      ]
    },
    {
      "cell_type": "markdown",
      "metadata": {
        "id": "iZCfdXK3s0km"
      },
      "source": [
        "It seems that even 100 iterations of training suffice to almost reach an average accuracy on the training set of 100% and approximately 86% for the test set. Compared to the distance based methods we have an improvement of 6% to the most basic one, and 1% to the slightly more advanced sklearn method."
      ]
    },
    {
      "cell_type": "code",
      "metadata": {
        "colab": {
          "base_uri": "https://localhost:8080/"
        },
        "id": "2Yz7ZuUPsxnb",
        "outputId": "d79e3da9-a87f-4878-ba51-f1e75352aab7"
      },
      "source": [
        "train_acc = []\n",
        "test_acc = []\n",
        "\n",
        "for i in range(10):\n",
        "  model = perceptron_init(256,10)\n",
        "  model_trained = perceptron_train(model, train_in, train_out, 1000)\n",
        "  # Test it on training set:\n",
        "  t0 = time.time()\n",
        "  print(\"Train set accuracy:\")\n",
        "  train_accuracy = perceptron_accuracy(model, train_in, train_out)\n",
        "  print(train_accuracy)\n",
        "  t1 = time.time()\n",
        "  train_acc.append(train_accuracy)\n",
        "  print(\"Time: \" + str(t1-t0))\n",
        "\n",
        "  # Test it on test set:\n",
        "  t0 = time.time()\n",
        "  print(\"Test set accuracy:\")\n",
        "  test_accuracy = perceptron_accuracy(model, test_in, test_out)\n",
        "  print(test_accuracy)\n",
        "  t1 = time.time()\n",
        "  test_acc.append(test_accuracy)\n",
        "  print(\"Time: \" + str(t1-t0))\n",
        "\n",
        "print(np.mean(train_acc))\n",
        "print(np.mean(test_acc))"
      ],
      "execution_count": null,
      "outputs": [
        {
          "name": "stdout",
          "output_type": "stream",
          "text": [
            "Train set accuracy:\n",
            "1.0\n",
            "Time: 0.024961471557617188\n",
            "Test set accuracy:\n",
            "0.862\n",
            "Time: 0.01465916633605957\n",
            "Train set accuracy:\n",
            "1.0\n",
            "Time: 0.024576663970947266\n",
            "Test set accuracy:\n",
            "0.863\n",
            "Time: 0.014315605163574219\n",
            "Train set accuracy:\n",
            "1.0\n",
            "Time: 0.027938365936279297\n",
            "Test set accuracy:\n",
            "0.864\n",
            "Time: 0.016031503677368164\n",
            "Train set accuracy:\n",
            "1.0\n",
            "Time: 0.025501012802124023\n",
            "Test set accuracy:\n",
            "0.862\n",
            "Time: 0.014685869216918945\n",
            "Train set accuracy:\n",
            "1.0\n",
            "Time: 0.02467489242553711\n",
            "Test set accuracy:\n",
            "0.864\n",
            "Time: 0.017845630645751953\n",
            "Train set accuracy:\n",
            "1.0\n",
            "Time: 0.025519609451293945\n",
            "Test set accuracy:\n",
            "0.864\n",
            "Time: 0.015079975128173828\n",
            "Train set accuracy:\n",
            "1.0\n",
            "Time: 0.02550673484802246\n",
            "Test set accuracy:\n",
            "0.863\n",
            "Time: 0.015494108200073242\n",
            "Train set accuracy:\n",
            "1.0\n",
            "Time: 0.025980472564697266\n",
            "Test set accuracy:\n",
            "0.862\n",
            "Time: 0.017578601837158203\n",
            "Train set accuracy:\n",
            "1.0\n",
            "Time: 0.025078535079956055\n",
            "Test set accuracy:\n",
            "0.862\n",
            "Time: 0.015455484390258789\n",
            "Train set accuracy:\n",
            "1.0\n",
            "Time: 0.02896285057067871\n",
            "Test set accuracy:\n",
            "0.863\n",
            "Time: 0.01560354232788086\n",
            "1.0\n",
            "0.8629\n"
          ]
        }
      ]
    },
    {
      "cell_type": "markdown",
      "metadata": {
        "id": "NKxJAM9xs0F3"
      },
      "source": [
        "With 1000 iterations, a train set accuracy of 100% is reached, however the test set accuracy barely changes."
      ]
    },
    {
      "cell_type": "code",
      "metadata": {
        "id": "_61QIJAXhxjS"
      },
      "source": [
        "# Task 3\n",
        "import numpy as np\n",
        "input = np.array([(0,0),(1,0),(0,1),(1,1)])\n",
        "output = np.array([0,1,1,0])\n",
        "weights = np.random.rand(3,3)\n",
        "\n",
        "# 3.1\n",
        "\n",
        "# For activation functions we have the sigmoid as sig(x), tanh as np.tanh(x), and relu\n",
        "def sig(x):\n",
        "  return 1 / (1 + np.exp(-x))\n",
        "\n",
        "def relu(x):\n",
        "  return max(0, x)\n",
        "\n",
        "def xor_net(x1, x2, weights):\n",
        "  Y_hid_1 = sig(x1 * weights[0][0] + x2 * weights[0][1] + 1 * weights[0][2])\n",
        "  Y_hid_2 = sig(x1 * weights[1][0] + x2 * weights[1][1] + 1 * weights[1][2])\n",
        "  Y_output = sig(Y_hid_1 * weights[2][0] + Y_hid_2 * weights[2][1] + 1 * weights[2][2])\n",
        "  return Y_output\n",
        "\n",
        "xor_net(input[0][0],input[0][1],weights)\n",
        "\n",
        "# 3.2\n",
        "\n",
        "def mse(weights):\n",
        "    MSE = 1/4 * ((xor_net(0,0,weights))**2 + (xor_net(0,1,weights)-1)**2 + (xor_net(1,0,weights)-1)**2 + (xor_net(1,1,weights))**2)\n",
        "    return MSE\n",
        "\n",
        "# 3.3\n",
        "\n",
        "def grdmse(weights):\n",
        "    stepsize = 0.01\n",
        "    gradients = np.zeros_like(weights) # Initialise gradients\n",
        "    for i in range(3):\n",
        "      for j in range(3):\n",
        "        # Check down\n",
        "        weights[i][j] -= stepsize\n",
        "        down = mse(weights)\n",
        "\n",
        "        # Check up\n",
        "        weights[i][j] += 2 * stepsize\n",
        "        up = mse(weights)\n",
        "\n",
        "        # Reset weights\n",
        "        weights[i][j] -= stepsize\n",
        "\n",
        "        # Set the gradient\n",
        "        gradients[i][j] = (up - down) / (2*stepsize)\n",
        "    return gradients\n"
      ],
      "execution_count": null,
      "outputs": []
    },
    {
      "cell_type": "code",
      "metadata": {
        "id": "5Odu17IyF75h"
      },
      "source": [
        "#3.4\n",
        "mses = []\n",
        "correct_guesses_arr = []\n",
        "correct_guesses = 0\n",
        "\n",
        "stepsizes = [0.1]\n",
        "\n",
        "for stepsize in stepsizes:\n",
        "    weights = np.random.rand(3,3)\n",
        "    epoch = 0\n",
        "    while mse(weights) != 0:\n",
        "        # Weight updating\n",
        "        weights -= stepsize * grdmse(weights)\n",
        "\n",
        "        if (xor_net(0, 0, weights) < 0.5) and (xor_net(0, 1, weights) > 0.5) and (xor_net(1, 0, weights) > 0.5) and (xor_net(1, 1, weights) < 0.5):\n",
        "            # Here we have a correct guess\n",
        "            correct_guesses += 1\n",
        "            correct_guesses_arr.append(correct_guesses)\n",
        "\n",
        "        epoch += 1\n",
        "        mses.append(mse(weights))\n",
        "        if epoch == 100000:\n",
        "            break\n",
        "        if epoch % 10000 == 0:\n",
        "            print(mse(weights))\n",
        "    print(\"Run with stepsize: \" + str(stepsize) + \" finished with \" + str(epoch) + \" epochs.\")\n",
        "\n",
        "    print(xor_net(0,0,weights))\n",
        "    print(xor_net(1,0,weights))\n",
        "    print(xor_net(0,1,weights))\n",
        "    print(xor_net(1,1,weights))\n",
        "mses_sig = mses"
      ],
      "execution_count": null,
      "outputs": []
    },
    {
      "cell_type": "code",
      "metadata": {
        "colab": {
          "base_uri": "https://localhost:8080/",
          "height": 546
        },
        "id": "-FJX8lB6OxkU",
        "outputId": "ab7097bc-a9da-46c3-f5cb-4e86c6ab3e57"
      },
      "source": [
        "plt.figure()\n",
        "plt.title(\"MSE over time for sigmoid function\")\n",
        "plt.plot(mses_sig)\n",
        "\n",
        "plt.figure()\n",
        "plt.plot(correct_guesses_arr)"
      ],
      "execution_count": null,
      "outputs": [
        {
          "output_type": "stream",
          "name": "stdout",
          "text": [
            "0\n"
          ]
        },
        {
          "output_type": "execute_result",
          "data": {
            "text/plain": [
              "[<matplotlib.lines.Line2D at 0x7fe13fd00a10>]"
            ]
          },
          "metadata": {},
          "execution_count": 76
        },
        {
          "output_type": "display_data",
          "data": {
            "image/png": "[encoded data removed]",
            "text/plain": [
              "<Figure size 432x288 with 1 Axes>"
            ]
          },
          "metadata": {
            "needs_background": "light"
          }
        },
        {
          "output_type": "display_data",
          "data": {
            "image/png": "[encoded data removed]",
            "text/plain": [
              "<Figure size 432x288 with 1 Axes>"
            ]
          },
          "metadata": {
            "needs_background": "light"
          }
        }
      ]
    },
    {
      "cell_type": "code",
      "metadata": {
        "colab": {
          "base_uri": "https://localhost:8080/"
        },
        "id": "H9tkiOg8PWD7",
        "outputId": "2a6b34c4-28e1-4ee1-ca5f-10785ecb3499"
      },
      "source": [
        "# ALL FUNCTIONS FOR TANH:\n",
        "\n",
        "def sig(x):\n",
        "    return np.tanh(x)\n",
        "\n",
        "def xor_net(x1, x2, weights):\n",
        "    Y_hid_1 = sig(x1 * weights[0][0] + x2 * weights[0][1] + 1 * weights[0][2])\n",
        "    Y_hid_2 = sig(x1 * weights[1][0] + x2 * weights[1][1] + 1 * weights[1][2])\n",
        "    Y_output = sig(Y_hid_1 * weights[2][0] + Y_hid_2 * weights[2][1] + 1 * weights[2][2])\n",
        "    return Y_output\n",
        "\n",
        "def mse(weights):\n",
        "    MSE = 1/4 * ((xor_net(0,0,weights))**2 + (xor_net(0,1,weights)-1)**2 + (xor_net(1,0,weights)-1)**2 + (xor_net(1,1,weights))**2)\n",
        "    return MSE\n",
        "\n",
        "#3.4\n",
        "mses = []\n",
        "correct_guesses_arr = []\n",
        "correct_guesses = 0\n",
        "\n",
        "stepsizes = [0.1]\n",
        "# Initialize weights\n",
        "weights = np.random.rand(3,3)\n",
        "# Iterate: weights = weights - n * grdmse(weights)\n",
        "for stepsize in stepsizes:\n",
        "    epoch = 0\n",
        "    while mse(weights) != 0:\n",
        "        # Weight updating\n",
        "        weights -= stepsize * grdmse(weights)\n",
        "        \n",
        "        if (xor_net(0, 0, weights) < 0.5) and (xor_net(0, 1, weights) > 0.5) and (xor_net(1, 0, weights) > 0.5) and (xor_net(1, 1, weights) < 0.5):\n",
        "            # Here we have a correct guess\n",
        "            correct_guesses += 1\n",
        "            correct_guesses_arr.append(correct_guesses)\n",
        "\n",
        "        epoch += 1\n",
        "        mses.append(mse(weights))\n",
        "        if epoch == 20000:\n",
        "            break\n",
        "        #if epoch % 2000 == 0:\n",
        "            #print(mse(weights))\n",
        "\n",
        "    print(\"Run with stepsize: \" + str(stepsize) + \" finished with \" + str(epoch) + \" epochs.\")\n",
        "print(xor_net(0,0,weights))\n",
        "print(xor_net(1,0,weights))\n",
        "print(xor_net(0,1,weights))\n",
        "print(xor_net(1,1,weights))\n",
        "\n",
        "mses_tanh = mses"
      ],
      "execution_count": null,
      "outputs": [
        {
          "output_type": "stream",
          "name": "stdout",
          "text": [
            "Run with stepsize: 0.1 finished with 20000 epochs.\n",
            "6.728651515512439e-05\n",
            "0.9921615798939293\n",
            "0.992163127541855\n",
            "0.00010144139571942494\n"
          ]
        }
      ]
    },
    {
      "cell_type": "code",
      "metadata": {
        "colab": {
          "base_uri": "https://localhost:8080/"
        },
        "id": "D1WIwdbtYWet",
        "outputId": "b6df2483-1389-45b1-ad4f-bdeaf2868782"
      },
      "source": [
        "# ALL FUNCTIONS FOR relu:\n",
        "\n",
        "def sig(x):\n",
        "  return relu(x)\n",
        "\n",
        "def xor_net(x1, x2, weights):\n",
        "  Y_hid_1 = sig(x1 * weights[0][0] + x2 * weights[0][1] + 1 * weights[0][2])\n",
        "  Y_hid_2 = sig(x1 * weights[1][0] + x2 * weights[1][1] + 1 * weights[1][2])\n",
        "  Y_output = sig(Y_hid_1 * weights[2][0] + Y_hid_2 * weights[2][1] + 1 * weights[2][2])\n",
        "  return Y_output\n",
        "\n",
        "def mse(weights):\n",
        "    MSE = 1/4 * ((xor_net(0,0,weights))**2 + (xor_net(0,1,weights)-1)**2 + (xor_net(1,0,weights)-1)**2 + (xor_net(1,1,weights))**2)\n",
        "    return MSE\n",
        "\n",
        "#3.4\n",
        "mses = []\n",
        "correct_guesses_arr = []\n",
        "correct_guesses = 0\n",
        "\n",
        "stepsizes = [0.1]\n",
        "# Initialize weights\n",
        "weights = np.random.rand(3,3)\n",
        "# Iterate: weights = weights - n * grdmse(weights)\n",
        "for stepsize in stepsizes:\n",
        "    epoch = 0\n",
        "    while mse(weights) != 0:\n",
        "        # Weight updating\n",
        "        weights -= stepsize * grdmse(weights)\n",
        "\n",
        "        if (xor_net(0, 0, weights) < 0.5) and (xor_net(0, 1, weights) > 0.5) and (xor_net(1, 0, weights) > 0.5) and (xor_net(1, 1, weights) < 0.5):\n",
        "            # Here we have a correct guess\n",
        "            correct_guesses += 1\n",
        "            correct_guesses_arr.append(correct_guesses)\n",
        "\n",
        "        epoch += 1\n",
        "        mses.append(mse(weights))\n",
        "\n",
        "        if epoch == 20000:\n",
        "            break\n",
        "        #if epoch % 2000 == 0:\n",
        "            #print(mse(weights))\n",
        "\n",
        "    print(\"Run with stepsize: \" + str(stepsize) + \" finished with \" + str(epoch) + \" epochs.\")\n",
        "print(xor_net(0,0,weights))\n",
        "print(xor_net(1,0,weights))\n",
        "print(xor_net(0,1,weights))\n",
        "print(xor_net(1,1,weights))\n",
        "\n",
        "mses_relu = mses"
      ],
      "execution_count": null,
      "outputs": [
        {
          "output_type": "stream",
          "name": "stdout",
          "text": [
            "Run with stepsize: 0.1 finished with 20000 epochs.\n",
            "0.5000000000000003\n",
            "0.5000000000000008\n",
            "0.4999999999999996\n",
            "0.5000000000000001\n"
          ]
        }
      ]
    },
    {
      "cell_type": "code",
      "metadata": {
        "colab": {
          "base_uri": "https://localhost:8080/",
          "height": 566
        },
        "id": "MTedOoVlZF-V",
        "outputId": "ccae71a7-4678-4323-974e-7bb92b3c8521"
      },
      "source": [
        "plt.figure()\n",
        "plt.title(\"MSE over time for various activation functions\")\n",
        "plt.plot(mses_sig, label=\"Sigmoid\")\n",
        "plt.plot(mses_tanh, label=\"Tanh\")\n",
        "plt.plot(mses_relu, label=\"RELU\")\n",
        "plt.legend()\n",
        "plt.xscale(\"log\")"
      ],
      "execution_count": null,
      "outputs": [
        {
          "output_type": "stream",
          "name": "stdout",
          "text": [
            "0\n"
          ]
        },
        {
          "output_type": "execute_result",
          "data": {
            "text/plain": [
              "[<matplotlib.lines.Line2D at 0x7fe13ff90250>]"
            ]
          },
          "metadata": {},
          "execution_count": 70
        },
        {
          "output_type": "display_data",
          "data": {
            "image/png": "[encoded data removed]",
            "text/plain": [
              "<Figure size 432x288 with 1 Axes>"
            ]
          },
          "metadata": {
            "needs_background": "light"
          }
        },
        {
          "output_type": "display_data",
          "data": {
            "image/png": "[encoded data removed]",
            "text/plain": [
              "<Figure size 432x288 with 1 Axes>"
            ]
          },
          "metadata": {
            "needs_background": "light"
          }
        }
      ]
    },
    {
      "cell_type": "markdown",
      "metadata": {
        "id": "Yp9mWFCqZFu3"
      },
      "source": [
        ""
      ]
    }
  ]
}